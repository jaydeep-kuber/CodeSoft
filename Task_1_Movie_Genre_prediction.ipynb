{
  "cells": [
    {
      "cell_type": "markdown",
      "metadata": {
        "id": "GNJd1TJJKEK7"
      },
      "source": [
        "# Imports & Drive Mounting"
      ]
    },
    {
      "cell_type": "code",
      "execution_count": null,
      "metadata": {
        "id": "U0q-ldgMJxmv"
      },
      "outputs": [],
      "source": [
        "# import\n",
        "import warnings\n",
        "warnings.filterwarnings('ignore')\n",
        "import matplotlib.pyplot as plt\n",
        "import seaborn as sns\n",
        "import pandas as pd\n",
        "import numpy as np\n",
        "import re\n",
        "import nltk\n",
        "\n",
        "from nltk.corpus import stopwords\n",
        "from nltk.stem import PorterStemmer\n",
        "from sklearn.feature_extraction.text import TfidfVectorizer\n",
        "from sklearn.model_selection import train_test_split\n",
        "from sklearn.preprocessing import LabelEncoder\n",
        "from sklearn.linear_model import LogisticRegression\n",
        "from sklearn.naive_bayes import MultinomialNB\n",
        "from sklearn.multiclass import OneVsRestClassifier\n",
        "from sklearn.metrics import classification_report\n",
        "from nltk.tokenize import word_tokenize\n",
        "from sklearn.tree import DecisionTreeClassifier\n"
      ]
    },
    {
      "cell_type": "code",
      "execution_count": null,
      "metadata": {
        "colab": {
          "base_uri": "https://localhost:8080/"
        },
        "id": "-Kelsli5RnMy",
        "outputId": "1ad61b2d-b4a1-4ea9-f0a1-9cfecd12261f"
      },
      "outputs": [
        {
          "output_type": "stream",
          "name": "stderr",
          "text": [
            "[nltk_data] Downloading package stopwords to /root/nltk_data...\n",
            "[nltk_data]   Package stopwords is already up-to-date!\n",
            "[nltk_data] Downloading package punkt to /root/nltk_data...\n",
            "[nltk_data]   Package punkt is already up-to-date!\n"
          ]
        }
      ],
      "source": [
        "nltk.download('stopwords')\n",
        "nltk.download('punkt')\n",
        "PS = PorterStemmer()\n",
        "stopwords = nltk.corpus.stopwords.words('english')"
      ]
    },
    {
      "cell_type": "code",
      "execution_count": null,
      "metadata": {
        "colab": {
          "base_uri": "https://localhost:8080/"
        },
        "id": "LDNTBXbLNRBd",
        "outputId": "9fbcb1f8-1182-4ee6-86da-e348d3676526"
      },
      "outputs": [
        {
          "output_type": "stream",
          "name": "stdout",
          "text": [
            "Drive already mounted at /content/drive; to attempt to forcibly remount, call drive.mount(\"/content/drive\", force_remount=True).\n"
          ]
        }
      ],
      "source": [
        "from google.colab import drive\n",
        "drive.mount('/content/drive')"
      ]
    },
    {
      "cell_type": "markdown",
      "metadata": {
        "id": "493Gab9eO7AM"
      },
      "source": [
        "# Read data & save as train_csv"
      ]
    },
    {
      "cell_type": "code",
      "execution_count": null,
      "metadata": {
        "id": "u_6sRkm8N03B"
      },
      "outputs": [],
      "source": [
        "# read txt as csv\n",
        "train_data = pd.read_csv(\"/content/drive/MyDrive/Datasets/Movie_Genre_Classifications/train_data.txt\", sep=':::', names=[\"id\", \"title\", \"genre\", \"description\"], engine='python')\n",
        "train_data.to_csv('/content/drive/MyDrive/Datasets/Movie_Genre_Classifications/train_csv.csv')"
      ]
    },
    {
      "cell_type": "code",
      "execution_count": null,
      "metadata": {
        "colab": {
          "base_uri": "https://localhost:8080/",
          "height": 206
        },
        "id": "mWEUh0TtPMBA",
        "outputId": "dd4123db-4815-450a-a351-ea65eeb55300"
      },
      "outputs": [
        {
          "output_type": "execute_result",
          "data": {
            "text/plain": [
              "   id                               title       genre  \\\n",
              "0   1       Oscar et la dame rose (2009)       drama    \n",
              "1   2                       Cupid (1997)    thriller    \n",
              "2   3   Young, Wild and Wonderful (1980)       adult    \n",
              "3   4              The Secret Sin (1915)       drama    \n",
              "4   5             The Unrecovered (2007)       drama    \n",
              "\n",
              "                                         description  \n",
              "0   Listening in to a conversation between his do...  \n",
              "1   A brother and sister with a past incestuous r...  \n",
              "2   As the bus empties the students for their fie...  \n",
              "3   To help their unemployed father make ends mee...  \n",
              "4   The film's title refers not only to the un-re...  "
            ],
            "text/html": [
              "\n",
              "  <div id=\"df-08b73b2b-9f95-4316-b249-3a456cbaa187\" class=\"colab-df-container\">\n",
              "    <div>\n",
              "<style scoped>\n",
              "    .dataframe tbody tr th:only-of-type {\n",
              "        vertical-align: middle;\n",
              "    }\n",
              "\n",
              "    .dataframe tbody tr th {\n",
              "        vertical-align: top;\n",
              "    }\n",
              "\n",
              "    .dataframe thead th {\n",
              "        text-align: right;\n",
              "    }\n",
              "</style>\n",
              "<table border=\"1\" class=\"dataframe\">\n",
              "  <thead>\n",
              "    <tr style=\"text-align: right;\">\n",
              "      <th></th>\n",
              "      <th>id</th>\n",
              "      <th>title</th>\n",
              "      <th>genre</th>\n",
              "      <th>description</th>\n",
              "    </tr>\n",
              "  </thead>\n",
              "  <tbody>\n",
              "    <tr>\n",
              "      <th>0</th>\n",
              "      <td>1</td>\n",
              "      <td>Oscar et la dame rose (2009)</td>\n",
              "      <td>drama</td>\n",
              "      <td>Listening in to a conversation between his do...</td>\n",
              "    </tr>\n",
              "    <tr>\n",
              "      <th>1</th>\n",
              "      <td>2</td>\n",
              "      <td>Cupid (1997)</td>\n",
              "      <td>thriller</td>\n",
              "      <td>A brother and sister with a past incestuous r...</td>\n",
              "    </tr>\n",
              "    <tr>\n",
              "      <th>2</th>\n",
              "      <td>3</td>\n",
              "      <td>Young, Wild and Wonderful (1980)</td>\n",
              "      <td>adult</td>\n",
              "      <td>As the bus empties the students for their fie...</td>\n",
              "    </tr>\n",
              "    <tr>\n",
              "      <th>3</th>\n",
              "      <td>4</td>\n",
              "      <td>The Secret Sin (1915)</td>\n",
              "      <td>drama</td>\n",
              "      <td>To help their unemployed father make ends mee...</td>\n",
              "    </tr>\n",
              "    <tr>\n",
              "      <th>4</th>\n",
              "      <td>5</td>\n",
              "      <td>The Unrecovered (2007)</td>\n",
              "      <td>drama</td>\n",
              "      <td>The film's title refers not only to the un-re...</td>\n",
              "    </tr>\n",
              "  </tbody>\n",
              "</table>\n",
              "</div>\n",
              "    <div class=\"colab-df-buttons\">\n",
              "\n",
              "  <div class=\"colab-df-container\">\n",
              "    <button class=\"colab-df-convert\" onclick=\"convertToInteractive('df-08b73b2b-9f95-4316-b249-3a456cbaa187')\"\n",
              "            title=\"Convert this dataframe to an interactive table.\"\n",
              "            style=\"display:none;\">\n",
              "\n",
              "  <svg xmlns=\"http://www.w3.org/2000/svg\" height=\"24px\" viewBox=\"0 -960 960 960\">\n",
              "    <path d=\"M120-120v-720h720v720H120Zm60-500h600v-160H180v160Zm220 220h160v-160H400v160Zm0 220h160v-160H400v160ZM180-400h160v-160H180v160Zm440 0h160v-160H620v160ZM180-180h160v-160H180v160Zm440 0h160v-160H620v160Z\"/>\n",
              "  </svg>\n",
              "    </button>\n",
              "\n",
              "  <style>\n",
              "    .colab-df-container {\n",
              "      display:flex;\n",
              "      gap: 12px;\n",
              "    }\n",
              "\n",
              "    .colab-df-convert {\n",
              "      background-color: #E8F0FE;\n",
              "      border: none;\n",
              "      border-radius: 50%;\n",
              "      cursor: pointer;\n",
              "      display: none;\n",
              "      fill: #1967D2;\n",
              "      height: 32px;\n",
              "      padding: 0 0 0 0;\n",
              "      width: 32px;\n",
              "    }\n",
              "\n",
              "    .colab-df-convert:hover {\n",
              "      background-color: #E2EBFA;\n",
              "      box-shadow: 0px 1px 2px rgba(60, 64, 67, 0.3), 0px 1px 3px 1px rgba(60, 64, 67, 0.15);\n",
              "      fill: #174EA6;\n",
              "    }\n",
              "\n",
              "    .colab-df-buttons div {\n",
              "      margin-bottom: 4px;\n",
              "    }\n",
              "\n",
              "    [theme=dark] .colab-df-convert {\n",
              "      background-color: #3B4455;\n",
              "      fill: #D2E3FC;\n",
              "    }\n",
              "\n",
              "    [theme=dark] .colab-df-convert:hover {\n",
              "      background-color: #434B5C;\n",
              "      box-shadow: 0px 1px 3px 1px rgba(0, 0, 0, 0.15);\n",
              "      filter: drop-shadow(0px 1px 2px rgba(0, 0, 0, 0.3));\n",
              "      fill: #FFFFFF;\n",
              "    }\n",
              "  </style>\n",
              "\n",
              "    <script>\n",
              "      const buttonEl =\n",
              "        document.querySelector('#df-08b73b2b-9f95-4316-b249-3a456cbaa187 button.colab-df-convert');\n",
              "      buttonEl.style.display =\n",
              "        google.colab.kernel.accessAllowed ? 'block' : 'none';\n",
              "\n",
              "      async function convertToInteractive(key) {\n",
              "        const element = document.querySelector('#df-08b73b2b-9f95-4316-b249-3a456cbaa187');\n",
              "        const dataTable =\n",
              "          await google.colab.kernel.invokeFunction('convertToInteractive',\n",
              "                                                    [key], {});\n",
              "        if (!dataTable) return;\n",
              "\n",
              "        const docLinkHtml = 'Like what you see? Visit the ' +\n",
              "          '<a target=\"_blank\" href=https://colab.research.google.com/notebooks/data_table.ipynb>data table notebook</a>'\n",
              "          + ' to learn more about interactive tables.';\n",
              "        element.innerHTML = '';\n",
              "        dataTable['output_type'] = 'display_data';\n",
              "        await google.colab.output.renderOutput(dataTable, element);\n",
              "        const docLink = document.createElement('div');\n",
              "        docLink.innerHTML = docLinkHtml;\n",
              "        element.appendChild(docLink);\n",
              "      }\n",
              "    </script>\n",
              "  </div>\n",
              "\n",
              "\n",
              "<div id=\"df-6b570584-0d88-4b37-b4f8-b1a56d21b5ef\">\n",
              "  <button class=\"colab-df-quickchart\" onclick=\"quickchart('df-6b570584-0d88-4b37-b4f8-b1a56d21b5ef')\"\n",
              "            title=\"Suggest charts\"\n",
              "            style=\"display:none;\">\n",
              "\n",
              "<svg xmlns=\"http://www.w3.org/2000/svg\" height=\"24px\"viewBox=\"0 0 24 24\"\n",
              "     width=\"24px\">\n",
              "    <g>\n",
              "        <path d=\"M19 3H5c-1.1 0-2 .9-2 2v14c0 1.1.9 2 2 2h14c1.1 0 2-.9 2-2V5c0-1.1-.9-2-2-2zM9 17H7v-7h2v7zm4 0h-2V7h2v10zm4 0h-2v-4h2v4z\"/>\n",
              "    </g>\n",
              "</svg>\n",
              "  </button>\n",
              "\n",
              "<style>\n",
              "  .colab-df-quickchart {\n",
              "      --bg-color: #E8F0FE;\n",
              "      --fill-color: #1967D2;\n",
              "      --hover-bg-color: #E2EBFA;\n",
              "      --hover-fill-color: #174EA6;\n",
              "      --disabled-fill-color: #AAA;\n",
              "      --disabled-bg-color: #DDD;\n",
              "  }\n",
              "\n",
              "  [theme=dark] .colab-df-quickchart {\n",
              "      --bg-color: #3B4455;\n",
              "      --fill-color: #D2E3FC;\n",
              "      --hover-bg-color: #434B5C;\n",
              "      --hover-fill-color: #FFFFFF;\n",
              "      --disabled-bg-color: #3B4455;\n",
              "      --disabled-fill-color: #666;\n",
              "  }\n",
              "\n",
              "  .colab-df-quickchart {\n",
              "    background-color: var(--bg-color);\n",
              "    border: none;\n",
              "    border-radius: 50%;\n",
              "    cursor: pointer;\n",
              "    display: none;\n",
              "    fill: var(--fill-color);\n",
              "    height: 32px;\n",
              "    padding: 0;\n",
              "    width: 32px;\n",
              "  }\n",
              "\n",
              "  .colab-df-quickchart:hover {\n",
              "    background-color: var(--hover-bg-color);\n",
              "    box-shadow: 0 1px 2px rgba(60, 64, 67, 0.3), 0 1px 3px 1px rgba(60, 64, 67, 0.15);\n",
              "    fill: var(--button-hover-fill-color);\n",
              "  }\n",
              "\n",
              "  .colab-df-quickchart-complete:disabled,\n",
              "  .colab-df-quickchart-complete:disabled:hover {\n",
              "    background-color: var(--disabled-bg-color);\n",
              "    fill: var(--disabled-fill-color);\n",
              "    box-shadow: none;\n",
              "  }\n",
              "\n",
              "  .colab-df-spinner {\n",
              "    border: 2px solid var(--fill-color);\n",
              "    border-color: transparent;\n",
              "    border-bottom-color: var(--fill-color);\n",
              "    animation:\n",
              "      spin 1s steps(1) infinite;\n",
              "  }\n",
              "\n",
              "  @keyframes spin {\n",
              "    0% {\n",
              "      border-color: transparent;\n",
              "      border-bottom-color: var(--fill-color);\n",
              "      border-left-color: var(--fill-color);\n",
              "    }\n",
              "    20% {\n",
              "      border-color: transparent;\n",
              "      border-left-color: var(--fill-color);\n",
              "      border-top-color: var(--fill-color);\n",
              "    }\n",
              "    30% {\n",
              "      border-color: transparent;\n",
              "      border-left-color: var(--fill-color);\n",
              "      border-top-color: var(--fill-color);\n",
              "      border-right-color: var(--fill-color);\n",
              "    }\n",
              "    40% {\n",
              "      border-color: transparent;\n",
              "      border-right-color: var(--fill-color);\n",
              "      border-top-color: var(--fill-color);\n",
              "    }\n",
              "    60% {\n",
              "      border-color: transparent;\n",
              "      border-right-color: var(--fill-color);\n",
              "    }\n",
              "    80% {\n",
              "      border-color: transparent;\n",
              "      border-right-color: var(--fill-color);\n",
              "      border-bottom-color: var(--fill-color);\n",
              "    }\n",
              "    90% {\n",
              "      border-color: transparent;\n",
              "      border-bottom-color: var(--fill-color);\n",
              "    }\n",
              "  }\n",
              "</style>\n",
              "\n",
              "  <script>\n",
              "    async function quickchart(key) {\n",
              "      const quickchartButtonEl =\n",
              "        document.querySelector('#' + key + ' button');\n",
              "      quickchartButtonEl.disabled = true;  // To prevent multiple clicks.\n",
              "      quickchartButtonEl.classList.add('colab-df-spinner');\n",
              "      try {\n",
              "        const charts = await google.colab.kernel.invokeFunction(\n",
              "            'suggestCharts', [key], {});\n",
              "      } catch (error) {\n",
              "        console.error('Error during call to suggestCharts:', error);\n",
              "      }\n",
              "      quickchartButtonEl.classList.remove('colab-df-spinner');\n",
              "      quickchartButtonEl.classList.add('colab-df-quickchart-complete');\n",
              "    }\n",
              "    (() => {\n",
              "      let quickchartButtonEl =\n",
              "        document.querySelector('#df-6b570584-0d88-4b37-b4f8-b1a56d21b5ef button');\n",
              "      quickchartButtonEl.style.display =\n",
              "        google.colab.kernel.accessAllowed ? 'block' : 'none';\n",
              "    })();\n",
              "  </script>\n",
              "</div>\n",
              "\n",
              "    </div>\n",
              "  </div>\n"
            ],
            "application/vnd.google.colaboratory.intrinsic+json": {
              "type": "dataframe",
              "variable_name": "train_data",
              "summary": "{\n  \"name\": \"train_data\",\n  \"rows\": 3178,\n  \"fields\": [\n    {\n      \"column\": \"id\",\n      \"properties\": {\n        \"dtype\": \"number\",\n        \"std\": 917,\n        \"min\": 1,\n        \"max\": 3178,\n        \"num_unique_values\": 3178,\n        \"samples\": [\n          1028,\n          1504,\n          786\n        ],\n        \"semantic_type\": \"\",\n        \"description\": \"\"\n      }\n    },\n    {\n      \"column\": \"title\",\n      \"properties\": {\n        \"dtype\": \"string\",\n        \"num_unique_values\": 3178,\n        \"samples\": [\n          \" A Sidewalk Astronomer (2005) \",\n          \" Missing, Believed Married (1937) \",\n          \" Mona, tesoro del Caribe (2017) \"\n        ],\n        \"semantic_type\": \"\",\n        \"description\": \"\"\n      }\n    },\n    {\n      \"column\": \"genre\",\n      \"properties\": {\n        \"dtype\": \"category\",\n        \"num_unique_values\": 27,\n        \"samples\": [\n          \" sport \",\n          \" sci-fi \",\n          \" animation \"\n        ],\n        \"semantic_type\": \"\",\n        \"description\": \"\"\n      }\n    },\n    {\n      \"column\": \"description\",\n      \"properties\": {\n        \"dtype\": \"string\",\n        \"num_unique_values\": 3177,\n        \"samples\": [\n          \" John Dobson, an 89 year old with a white ponytail and knack for comedy, is the inventor of the Dobsonian telescope mount, which revolutionized astronomy by making large, inexpensive telescopes and deep space observing available to amateur astronomers around the world. A former Vedantan monk, he is a co-founder of Sidewalk Astronomers, an organization that encourages amateurs to share their telescopes and knowledge with the public. The film follows John as he tours the country, giving cosmology, astronomy, and telescope-making classes and features sequences on the Moon, sun, planets, galaxies, Big Bang Theory, and the nature of time and space. Illustrating our journey is actual footage and deep space photography shot from satellites, spacecraft, and the Hubble telescope Space-Telescope Institute.\",\n          \" A heiress discovers during her engagement that the man she is about to marry is a fortune-hunting fraud. She runs off and during street scuffle she gets a blow to her head which leaves her with amnesia. She is taken in by Patch and Vedey, a pair of street vendors. The fraudulent count turns up while searching for her and convinces her to go to Paris with him. However, Patch and Vedey follow and rescue her from the count.\",\n          \" Mona island was a ceremonial center for Taino Indians who left pictograms and finger painting on the cave walls. With the Spanish arrival and later with pirate ships, Mona became a food and water supplier. Later between the 19th and 20th century, more than 600 men extracted guano, a fertilizer, from the caves. Presently it is a natural reserve managed by the Natural Resource and Environment Department and a place where on-going research projects are the preservation of the hawksbill turtle and the big iguanas as well as climate change and geology. Also archeologists from Britain are collaborating with local researchers interpreting Taino culture and pictographs; Speleologists from different parts of the world, together with a couple of Puerto Rican specialists, have mapped already more than 200 caves and continue to visit the island annually.\"\n        ],\n        \"semantic_type\": \"\",\n        \"description\": \"\"\n      }\n    }\n  ]\n}"
            }
          },
          "metadata": {},
          "execution_count": 47
        }
      ],
      "source": [
        "train_data.head(5)"
      ]
    },
    {
      "cell_type": "markdown",
      "metadata": {
        "id": "6DI_mK1mPeFz"
      },
      "source": [
        "#Exploring data"
      ]
    },
    {
      "cell_type": "code",
      "execution_count": null,
      "metadata": {
        "colab": {
          "base_uri": "https://localhost:8080/"
        },
        "id": "Q29KNBryPW6W",
        "outputId": "b3634f8a-62f0-432b-89f1-b7ec9b52c884"
      },
      "outputs": [
        {
          "output_type": "execute_result",
          "data": {
            "text/plain": [
              "id             0\n",
              "title          0\n",
              "genre          0\n",
              "description    0\n",
              "dtype: int64"
            ]
          },
          "metadata": {},
          "execution_count": 48
        }
      ],
      "source": [
        "train_data.isnull().sum()"
      ]
    },
    {
      "cell_type": "code",
      "execution_count": null,
      "metadata": {
        "colab": {
          "base_uri": "https://localhost:8080/"
        },
        "id": "MRYRVgOEPnV2",
        "outputId": "adef45c7-9548-4e6e-ea1f-858371239bad"
      },
      "outputs": [
        {
          "output_type": "stream",
          "name": "stdout",
          "text": [
            "No. unique values in genre 27\n"
          ]
        },
        {
          "output_type": "execute_result",
          "data": {
            "text/plain": [
              "genre\n",
              " drama           799\n",
              " documentary     749\n",
              " comedy          441\n",
              " short           315\n",
              " horror          129\n",
              " thriller        112\n",
              " action           80\n",
              " reality-tv       60\n",
              " western          59\n",
              " family           47\n",
              " adult            43\n",
              " adventure        42\n",
              " sci-fi           42\n",
              " music            37\n",
              " romance          32\n",
              " animation        27\n",
              " biography        25\n",
              " crime            23\n",
              " sport            19\n",
              " fantasy          17\n",
              " talk-show        16\n",
              " mystery          15\n",
              " history          14\n",
              " game-show        12\n",
              " musical           9\n",
              " news              7\n",
              " war               7\n",
              "Name: count, dtype: int64"
            ]
          },
          "metadata": {},
          "execution_count": 49
        }
      ],
      "source": [
        "# Get the unique values in Genre column\n",
        "print('No. unique values in genre',train_data.genre.nunique())\n",
        "train_data.genre.value_counts()"
      ]
    },
    {
      "cell_type": "code",
      "execution_count": null,
      "metadata": {
        "colab": {
          "base_uri": "https://localhost:8080/",
          "height": 760
        },
        "id": "xMhg61LnP8O8",
        "outputId": "68500aeb-9f64-48de-f0be-69240ca57c5f"
      },
      "outputs": [
        {
          "output_type": "execute_result",
          "data": {
            "text/plain": [
              "([0, 1, 2, 3, 4, 5, 6, 7, 8, 9],\n",
              " [Text(0, 0, ' drama '),\n",
              "  Text(1, 0, ' documentary '),\n",
              "  Text(2, 0, ' comedy '),\n",
              "  Text(3, 0, ' short '),\n",
              "  Text(4, 0, ' horror '),\n",
              "  Text(5, 0, ' thriller '),\n",
              "  Text(6, 0, ' action '),\n",
              "  Text(7, 0, ' reality-tv '),\n",
              "  Text(8, 0, ' western '),\n",
              "  Text(9, 0, ' family ')])"
            ]
          },
          "metadata": {},
          "execution_count": 50
        },
        {
          "output_type": "display_data",
          "data": {
            "text/plain": [
              "<Figure size 640x480 with 1 Axes>"
            ],
            "image/png": "[encoded data removed]"
          },
          "metadata": {}
        }
      ],
      "source": [
        "# Plot top 10 genres by count\n",
        "top_10_genre = pd.DataFrame(train_data.genre.value_counts()).reset_index().head(10)\n",
        "sns.barplot(x='genre',y='count',data=top_10_genre).set(title='Top 10 Genres')\n",
        "plt.xticks(rotation=90)\n"
      ]
    },
    {
      "cell_type": "markdown",
      "metadata": {
        "id": "u9sJ4RBURY_e"
      },
      "source": [
        "# Do some opration in description column"
      ]
    },
    {
      "cell_type": "code",
      "execution_count": null,
      "metadata": {
        "id": "J3qTG3-qRT6B"
      },
      "outputs": [],
      "source": [
        "# we have did it in import section\n",
        "\n",
        "# nltk.download('stopwords')\n",
        "# nltk.download('punkt')\n",
        "# PS = PorterStemmer()\n",
        "# stopwords = nltk.corpus.stopwords.words('english')"
      ]
    },
    {
      "cell_type": "code",
      "execution_count": null,
      "metadata": {
        "colab": {
          "base_uri": "https://localhost:8080/"
        },
        "id": "cxfz28qPRyQ1",
        "outputId": "c8222880-f723-4bf6-c059-0bb434a490fa"
      },
      "outputs": [
        {
          "output_type": "stream",
          "name": "stdout",
          "text": [
            "Max len of description:  10504\n",
            "Min len of description:  77\n"
          ]
        },
        {
          "output_type": "execute_result",
          "data": {
            "text/plain": [
              "0     546\n",
              "1     184\n",
              "2     650\n",
              "3    1082\n",
              "4     625\n",
              "5    1609\n",
              "6     345\n",
              "7     332\n",
              "8     456\n",
              "9     426\n",
              "Name: desc_len, dtype: int64"
            ]
          },
          "metadata": {},
          "execution_count": 52
        }
      ],
      "source": [
        "# create a column called desc_len which shows len of description column\n",
        "train_data['desc_len'] = train_data['description'].apply(len)\n",
        "print(\"Max len of description: \",train_data['desc_len'].max())\n",
        "print(\"Min len of description: \",train_data['desc_len'].min())\n",
        "train_data['desc_len'].head(10)\n"
      ]
    },
    {
      "cell_type": "code",
      "execution_count": null,
      "metadata": {
        "id": "t10HDwZYS219"
      },
      "outputs": [],
      "source": [
        "# Function for dEscription filtering\n",
        "def desc_filter(desc):\n",
        "  desc = desc.lower()\n",
        "  desc = re.sub(r'@\\S+','',desc)\n",
        "  desc = re.sub(r'http\\S+', '', desc)\n",
        "  desc = re.sub(r'[\\w\\.-]+@[\\w\\.-]+',\"\",desc)\n",
        "  desc = re.sub(r\"[^a-zA-Z+']\", ' ', desc)\n",
        "  desc = re.sub('-',' ',desc.lower())\n",
        "  desc = re.sub(r'\\'', '',desc)\n",
        "  word_tokens = word_tokenize(desc)\n",
        "  stpWrd_removal = []\n",
        "  filtered_article = []\n",
        "  for word in word_tokens:\n",
        "    if word not in stopwords:\n",
        "       stpWrd_removal.append(word)\n",
        "  for i in stpWrd_removal:\n",
        "    filtered_article.append(PS.stem(i))\n",
        "  # print(\"stpWrd_removal list: \",stpWrd_removal)\n",
        "  # print(\"filtered_article list: \",filtered_article)\n",
        "  return ' '.join(filtered_article)"
      ]
    },
    {
      "cell_type": "code",
      "execution_count": null,
      "metadata": {
        "id": "_xumZL7ZUOS3"
      },
      "outputs": [],
      "source": [
        "# Column of preprocessed txt\n",
        "train_data['filterd_desc'] = train_data.description.apply(desc_filter)"
      ]
    },
    {
      "cell_type": "code",
      "source": [
        "train_data['filterd_desc'].head(10)"
      ],
      "metadata": {
        "colab": {
          "base_uri": "https://localhost:8080/"
        },
        "id": "Tem6awN4d87P",
        "outputId": "8fd3635b-628f-44ac-c3ea-5fe60ede7784"
      },
      "execution_count": null,
      "outputs": [
        {
          "output_type": "execute_result",
          "data": {
            "text/plain": [
              "0    listen convers doctor parent year old oscar le...\n",
              "1    brother sister past incestu relationship curre...\n",
              "2    bu empti student field trip museum natur histo...\n",
              "3    help unemploy father make end meet edith twin ...\n",
              "4    film titl refer un recov bodi ground zero also...\n",
              "5    qualiti control consist seri mm singl take sho...\n",
              "6    tough econom time max joey run idea discov sen...\n",
              "7    ron petri keanu reev troubl teen whose life ha...\n",
              "8    sudden calamit event caus great loss life dama...\n",
              "9    four high school student embark terrifi journe...\n",
              "Name: filterd_desc, dtype: object"
            ]
          },
          "metadata": {},
          "execution_count": 55
        }
      ]
    },
    {
      "cell_type": "code",
      "source": [
        "# column for preprocessed txt length\n",
        "train_data['filterd_desc_len'] = train_data['filterd_desc'].apply(len)\n",
        "train_data['filterd_desc_len'].head(10)\n",
        "print(\"Filtered max len: \",train_data['filterd_desc_len'].max())\n",
        "print(\"Filtered min len: \",train_data['filterd_desc_len'].min())"
      ],
      "metadata": {
        "colab": {
          "base_uri": "https://localhost:8080/"
        },
        "id": "XrtKNwuaeinf",
        "outputId": "f3e1bd12-8370-4c87-fb9d-5baf606e0907"
      },
      "execution_count": null,
      "outputs": [
        {
          "output_type": "stream",
          "name": "stdout",
          "text": [
            "Filtered max len:  6403\n",
            "Filtered min len:  58\n"
          ]
        }
      ]
    },
    {
      "cell_type": "code",
      "source": [
        "# get the length greater than 2000 in filterd desc\n",
        "print(\"val >1000\",(train_data['filterd_desc_len']>1000).value_counts())\n",
        "print('--------------------------------')\n",
        "print(\"val >3000\",(train_data['filterd_desc_len']>3000).value_counts())\n",
        "print('--------------------------------')\n",
        "print(\"val >5000\",(train_data['filterd_desc_len']>5000).value_counts())"
      ],
      "metadata": {
        "colab": {
          "base_uri": "https://localhost:8080/"
        },
        "id": "1nvm9lmPfbAT",
        "outputId": "511c171f-f1aa-40de-8a39-ca9f38e21f73"
      },
      "execution_count": null,
      "outputs": [
        {
          "output_type": "stream",
          "name": "stdout",
          "text": [
            "val >1000 filterd_desc_len\n",
            "False    3073\n",
            "True      105\n",
            "Name: count, dtype: int64\n",
            "--------------------------------\n",
            "val >3000 filterd_desc_len\n",
            "False    3177\n",
            "True        1\n",
            "Name: count, dtype: int64\n",
            "--------------------------------\n",
            "val >5000 filterd_desc_len\n",
            "False    3177\n",
            "True        1\n",
            "Name: count, dtype: int64\n"
          ]
        }
      ]
    },
    {
      "cell_type": "code",
      "source": [
        "# remove the rows that the length greater than 2000 in preprocessed description\n",
        "# train_df = train_df[~(train_df['Processed Desc length']>2000)]"
      ],
      "metadata": {
        "id": "tSxlfjklgg18"
      },
      "execution_count": null,
      "outputs": []
    },
    {
      "cell_type": "code",
      "source": [
        "# Label Encoding for Genre column\n",
        "lbl_encod = LabelEncoder()\n",
        "lbl_encod.fit(train_data['genre'])\n",
        "train_data['genre_lbl_encod'] = lbl_encod.transform(train_data['genre'])\n",
        "train_data.head(5)"
      ],
      "metadata": {
        "colab": {
          "base_uri": "https://localhost:8080/",
          "height": 206
        },
        "id": "FVNoTWNtguJd",
        "outputId": "135c09ee-2594-4f4d-e0af-52b894037638"
      },
      "execution_count": null,
      "outputs": [
        {
          "output_type": "execute_result",
          "data": {
            "text/plain": [
              "   id                               title       genre  \\\n",
              "0   1       Oscar et la dame rose (2009)       drama    \n",
              "1   2                       Cupid (1997)    thriller    \n",
              "2   3   Young, Wild and Wonderful (1980)       adult    \n",
              "3   4              The Secret Sin (1915)       drama    \n",
              "4   5             The Unrecovered (2007)       drama    \n",
              "\n",
              "                                         description  desc_len  \\\n",
              "0   Listening in to a conversation between his do...       546   \n",
              "1   A brother and sister with a past incestuous r...       184   \n",
              "2   As the bus empties the students for their fie...       650   \n",
              "3   To help their unemployed father make ends mee...      1082   \n",
              "4   The film's title refers not only to the un-re...       625   \n",
              "\n",
              "                                        filterd_desc  filterd_desc_len  \\\n",
              "0  listen convers doctor parent year old oscar le...               339   \n",
              "1  brother sister past incestu relationship curre...               111   \n",
              "2  bu empti student field trip museum natur histo...               344   \n",
              "3  help unemploy father make end meet edith twin ...               678   \n",
              "4  film titl refer un recov bodi ground zero also...               350   \n",
              "\n",
              "   genre_lbl_encod  \n",
              "0                8  \n",
              "1               24  \n",
              "2                1  \n",
              "3                8  \n",
              "4                8  "
            ],
            "text/html": [
              "\n",
              "  <div id=\"df-2564cfc8-3b21-450d-a577-f954fa0a8a51\" class=\"colab-df-container\">\n",
              "    <div>\n",
              "<style scoped>\n",
              "    .dataframe tbody tr th:only-of-type {\n",
              "        vertical-align: middle;\n",
              "    }\n",
              "\n",
              "    .dataframe tbody tr th {\n",
              "        vertical-align: top;\n",
              "    }\n",
              "\n",
              "    .dataframe thead th {\n",
              "        text-align: right;\n",
              "    }\n",
              "</style>\n",
              "<table border=\"1\" class=\"dataframe\">\n",
              "  <thead>\n",
              "    <tr style=\"text-align: right;\">\n",
              "      <th></th>\n",
              "      <th>id</th>\n",
              "      <th>title</th>\n",
              "      <th>genre</th>\n",
              "      <th>description</th>\n",
              "      <th>desc_len</th>\n",
              "      <th>filterd_desc</th>\n",
              "      <th>filterd_desc_len</th>\n",
              "      <th>genre_lbl_encod</th>\n",
              "    </tr>\n",
              "  </thead>\n",
              "  <tbody>\n",
              "    <tr>\n",
              "      <th>0</th>\n",
              "      <td>1</td>\n",
              "      <td>Oscar et la dame rose (2009)</td>\n",
              "      <td>drama</td>\n",
              "      <td>Listening in to a conversation between his do...</td>\n",
              "      <td>546</td>\n",
              "      <td>listen convers doctor parent year old oscar le...</td>\n",
              "      <td>339</td>\n",
              "      <td>8</td>\n",
              "    </tr>\n",
              "    <tr>\n",
              "      <th>1</th>\n",
              "      <td>2</td>\n",
              "      <td>Cupid (1997)</td>\n",
              "      <td>thriller</td>\n",
              "      <td>A brother and sister with a past incestuous r...</td>\n",
              "      <td>184</td>\n",
              "      <td>brother sister past incestu relationship curre...</td>\n",
              "      <td>111</td>\n",
              "      <td>24</td>\n",
              "    </tr>\n",
              "    <tr>\n",
              "      <th>2</th>\n",
              "      <td>3</td>\n",
              "      <td>Young, Wild and Wonderful (1980)</td>\n",
              "      <td>adult</td>\n",
              "      <td>As the bus empties the students for their fie...</td>\n",
              "      <td>650</td>\n",
              "      <td>bu empti student field trip museum natur histo...</td>\n",
              "      <td>344</td>\n",
              "      <td>1</td>\n",
              "    </tr>\n",
              "    <tr>\n",
              "      <th>3</th>\n",
              "      <td>4</td>\n",
              "      <td>The Secret Sin (1915)</td>\n",
              "      <td>drama</td>\n",
              "      <td>To help their unemployed father make ends mee...</td>\n",
              "      <td>1082</td>\n",
              "      <td>help unemploy father make end meet edith twin ...</td>\n",
              "      <td>678</td>\n",
              "      <td>8</td>\n",
              "    </tr>\n",
              "    <tr>\n",
              "      <th>4</th>\n",
              "      <td>5</td>\n",
              "      <td>The Unrecovered (2007)</td>\n",
              "      <td>drama</td>\n",
              "      <td>The film's title refers not only to the un-re...</td>\n",
              "      <td>625</td>\n",
              "      <td>film titl refer un recov bodi ground zero also...</td>\n",
              "      <td>350</td>\n",
              "      <td>8</td>\n",
              "    </tr>\n",
              "  </tbody>\n",
              "</table>\n",
              "</div>\n",
              "    <div class=\"colab-df-buttons\">\n",
              "\n",
              "  <div class=\"colab-df-container\">\n",
              "    <button class=\"colab-df-convert\" onclick=\"convertToInteractive('df-2564cfc8-3b21-450d-a577-f954fa0a8a51')\"\n",
              "            title=\"Convert this dataframe to an interactive table.\"\n",
              "            style=\"display:none;\">\n",
              "\n",
              "  <svg xmlns=\"http://www.w3.org/2000/svg\" height=\"24px\" viewBox=\"0 -960 960 960\">\n",
              "    <path d=\"M120-120v-720h720v720H120Zm60-500h600v-160H180v160Zm220 220h160v-160H400v160Zm0 220h160v-160H400v160ZM180-400h160v-160H180v160Zm440 0h160v-160H620v160ZM180-180h160v-160H180v160Zm440 0h160v-160H620v160Z\"/>\n",
              "  </svg>\n",
              "    </button>\n",
              "\n",
              "  <style>\n",
              "    .colab-df-container {\n",
              "      display:flex;\n",
              "      gap: 12px;\n",
              "    }\n",
              "\n",
              "    .colab-df-convert {\n",
              "      background-color: #E8F0FE;\n",
              "      border: none;\n",
              "      border-radius: 50%;\n",
              "      cursor: pointer;\n",
              "      display: none;\n",
              "      fill: #1967D2;\n",
              "      height: 32px;\n",
              "      padding: 0 0 0 0;\n",
              "      width: 32px;\n",
              "    }\n",
              "\n",
              "    .colab-df-convert:hover {\n",
              "      background-color: #E2EBFA;\n",
              "      box-shadow: 0px 1px 2px rgba(60, 64, 67, 0.3), 0px 1px 3px 1px rgba(60, 64, 67, 0.15);\n",
              "      fill: #174EA6;\n",
              "    }\n",
              "\n",
              "    .colab-df-buttons div {\n",
              "      margin-bottom: 4px;\n",
              "    }\n",
              "\n",
              "    [theme=dark] .colab-df-convert {\n",
              "      background-color: #3B4455;\n",
              "      fill: #D2E3FC;\n",
              "    }\n",
              "\n",
              "    [theme=dark] .colab-df-convert:hover {\n",
              "      background-color: #434B5C;\n",
              "      box-shadow: 0px 1px 3px 1px rgba(0, 0, 0, 0.15);\n",
              "      filter: drop-shadow(0px 1px 2px rgba(0, 0, 0, 0.3));\n",
              "      fill: #FFFFFF;\n",
              "    }\n",
              "  </style>\n",
              "\n",
              "    <script>\n",
              "      const buttonEl =\n",
              "        document.querySelector('#df-2564cfc8-3b21-450d-a577-f954fa0a8a51 button.colab-df-convert');\n",
              "      buttonEl.style.display =\n",
              "        google.colab.kernel.accessAllowed ? 'block' : 'none';\n",
              "\n",
              "      async function convertToInteractive(key) {\n",
              "        const element = document.querySelector('#df-2564cfc8-3b21-450d-a577-f954fa0a8a51');\n",
              "        const dataTable =\n",
              "          await google.colab.kernel.invokeFunction('convertToInteractive',\n",
              "                                                    [key], {});\n",
              "        if (!dataTable) return;\n",
              "\n",
              "        const docLinkHtml = 'Like what you see? Visit the ' +\n",
              "          '<a target=\"_blank\" href=https://colab.research.google.com/notebooks/data_table.ipynb>data table notebook</a>'\n",
              "          + ' to learn more about interactive tables.';\n",
              "        element.innerHTML = '';\n",
              "        dataTable['output_type'] = 'display_data';\n",
              "        await google.colab.output.renderOutput(dataTable, element);\n",
              "        const docLink = document.createElement('div');\n",
              "        docLink.innerHTML = docLinkHtml;\n",
              "        element.appendChild(docLink);\n",
              "      }\n",
              "    </script>\n",
              "  </div>\n",
              "\n",
              "\n",
              "<div id=\"df-e4c5fc74-c7ff-4d62-87e9-652dd5886d26\">\n",
              "  <button class=\"colab-df-quickchart\" onclick=\"quickchart('df-e4c5fc74-c7ff-4d62-87e9-652dd5886d26')\"\n",
              "            title=\"Suggest charts\"\n",
              "            style=\"display:none;\">\n",
              "\n",
              "<svg xmlns=\"http://www.w3.org/2000/svg\" height=\"24px\"viewBox=\"0 0 24 24\"\n",
              "     width=\"24px\">\n",
              "    <g>\n",
              "        <path d=\"M19 3H5c-1.1 0-2 .9-2 2v14c0 1.1.9 2 2 2h14c1.1 0 2-.9 2-2V5c0-1.1-.9-2-2-2zM9 17H7v-7h2v7zm4 0h-2V7h2v10zm4 0h-2v-4h2v4z\"/>\n",
              "    </g>\n",
              "</svg>\n",
              "  </button>\n",
              "\n",
              "<style>\n",
              "  .colab-df-quickchart {\n",
              "      --bg-color: #E8F0FE;\n",
              "      --fill-color: #1967D2;\n",
              "      --hover-bg-color: #E2EBFA;\n",
              "      --hover-fill-color: #174EA6;\n",
              "      --disabled-fill-color: #AAA;\n",
              "      --disabled-bg-color: #DDD;\n",
              "  }\n",
              "\n",
              "  [theme=dark] .colab-df-quickchart {\n",
              "      --bg-color: #3B4455;\n",
              "      --fill-color: #D2E3FC;\n",
              "      --hover-bg-color: #434B5C;\n",
              "      --hover-fill-color: #FFFFFF;\n",
              "      --disabled-bg-color: #3B4455;\n",
              "      --disabled-fill-color: #666;\n",
              "  }\n",
              "\n",
              "  .colab-df-quickchart {\n",
              "    background-color: var(--bg-color);\n",
              "    border: none;\n",
              "    border-radius: 50%;\n",
              "    cursor: pointer;\n",
              "    display: none;\n",
              "    fill: var(--fill-color);\n",
              "    height: 32px;\n",
              "    padding: 0;\n",
              "    width: 32px;\n",
              "  }\n",
              "\n",
              "  .colab-df-quickchart:hover {\n",
              "    background-color: var(--hover-bg-color);\n",
              "    box-shadow: 0 1px 2px rgba(60, 64, 67, 0.3), 0 1px 3px 1px rgba(60, 64, 67, 0.15);\n",
              "    fill: var(--button-hover-fill-color);\n",
              "  }\n",
              "\n",
              "  .colab-df-quickchart-complete:disabled,\n",
              "  .colab-df-quickchart-complete:disabled:hover {\n",
              "    background-color: var(--disabled-bg-color);\n",
              "    fill: var(--disabled-fill-color);\n",
              "    box-shadow: none;\n",
              "  }\n",
              "\n",
              "  .colab-df-spinner {\n",
              "    border: 2px solid var(--fill-color);\n",
              "    border-color: transparent;\n",
              "    border-bottom-color: var(--fill-color);\n",
              "    animation:\n",
              "      spin 1s steps(1) infinite;\n",
              "  }\n",
              "\n",
              "  @keyframes spin {\n",
              "    0% {\n",
              "      border-color: transparent;\n",
              "      border-bottom-color: var(--fill-color);\n",
              "      border-left-color: var(--fill-color);\n",
              "    }\n",
              "    20% {\n",
              "      border-color: transparent;\n",
              "      border-left-color: var(--fill-color);\n",
              "      border-top-color: var(--fill-color);\n",
              "    }\n",
              "    30% {\n",
              "      border-color: transparent;\n",
              "      border-left-color: var(--fill-color);\n",
              "      border-top-color: var(--fill-color);\n",
              "      border-right-color: var(--fill-color);\n",
              "    }\n",
              "    40% {\n",
              "      border-color: transparent;\n",
              "      border-right-color: var(--fill-color);\n",
              "      border-top-color: var(--fill-color);\n",
              "    }\n",
              "    60% {\n",
              "      border-color: transparent;\n",
              "      border-right-color: var(--fill-color);\n",
              "    }\n",
              "    80% {\n",
              "      border-color: transparent;\n",
              "      border-right-color: var(--fill-color);\n",
              "      border-bottom-color: var(--fill-color);\n",
              "    }\n",
              "    90% {\n",
              "      border-color: transparent;\n",
              "      border-bottom-color: var(--fill-color);\n",
              "    }\n",
              "  }\n",
              "</style>\n",
              "\n",
              "  <script>\n",
              "    async function quickchart(key) {\n",
              "      const quickchartButtonEl =\n",
              "        document.querySelector('#' + key + ' button');\n",
              "      quickchartButtonEl.disabled = true;  // To prevent multiple clicks.\n",
              "      quickchartButtonEl.classList.add('colab-df-spinner');\n",
              "      try {\n",
              "        const charts = await google.colab.kernel.invokeFunction(\n",
              "            'suggestCharts', [key], {});\n",
              "      } catch (error) {\n",
              "        console.error('Error during call to suggestCharts:', error);\n",
              "      }\n",
              "      quickchartButtonEl.classList.remove('colab-df-spinner');\n",
              "      quickchartButtonEl.classList.add('colab-df-quickchart-complete');\n",
              "    }\n",
              "    (() => {\n",
              "      let quickchartButtonEl =\n",
              "        document.querySelector('#df-e4c5fc74-c7ff-4d62-87e9-652dd5886d26 button');\n",
              "      quickchartButtonEl.style.display =\n",
              "        google.colab.kernel.accessAllowed ? 'block' : 'none';\n",
              "    })();\n",
              "  </script>\n",
              "</div>\n",
              "\n",
              "    </div>\n",
              "  </div>\n"
            ],
            "application/vnd.google.colaboratory.intrinsic+json": {
              "type": "dataframe",
              "variable_name": "train_data",
              "summary": "{\n  \"name\": \"train_data\",\n  \"rows\": 3178,\n  \"fields\": [\n    {\n      \"column\": \"id\",\n      \"properties\": {\n        \"dtype\": \"number\",\n        \"std\": 917,\n        \"min\": 1,\n        \"max\": 3178,\n        \"num_unique_values\": 3178,\n        \"samples\": [\n          1028,\n          1504,\n          786\n        ],\n        \"semantic_type\": \"\",\n        \"description\": \"\"\n      }\n    },\n    {\n      \"column\": \"title\",\n      \"properties\": {\n        \"dtype\": \"string\",\n        \"num_unique_values\": 3178,\n        \"samples\": [\n          \" A Sidewalk Astronomer (2005) \",\n          \" Missing, Believed Married (1937) \",\n          \" Mona, tesoro del Caribe (2017) \"\n        ],\n        \"semantic_type\": \"\",\n        \"description\": \"\"\n      }\n    },\n    {\n      \"column\": \"genre\",\n      \"properties\": {\n        \"dtype\": \"category\",\n        \"num_unique_values\": 27,\n        \"samples\": [\n          \" sport \",\n          \" sci-fi \",\n          \" animation \"\n        ],\n        \"semantic_type\": \"\",\n        \"description\": \"\"\n      }\n    },\n    {\n      \"column\": \"description\",\n      \"properties\": {\n        \"dtype\": \"string\",\n        \"num_unique_values\": 3177,\n        \"samples\": [\n          \" John Dobson, an 89 year old with a white ponytail and knack for comedy, is the inventor of the Dobsonian telescope mount, which revolutionized astronomy by making large, inexpensive telescopes and deep space observing available to amateur astronomers around the world. A former Vedantan monk, he is a co-founder of Sidewalk Astronomers, an organization that encourages amateurs to share their telescopes and knowledge with the public. The film follows John as he tours the country, giving cosmology, astronomy, and telescope-making classes and features sequences on the Moon, sun, planets, galaxies, Big Bang Theory, and the nature of time and space. Illustrating our journey is actual footage and deep space photography shot from satellites, spacecraft, and the Hubble telescope Space-Telescope Institute.\",\n          \" A heiress discovers during her engagement that the man she is about to marry is a fortune-hunting fraud. She runs off and during street scuffle she gets a blow to her head which leaves her with amnesia. She is taken in by Patch and Vedey, a pair of street vendors. The fraudulent count turns up while searching for her and convinces her to go to Paris with him. However, Patch and Vedey follow and rescue her from the count.\",\n          \" Mona island was a ceremonial center for Taino Indians who left pictograms and finger painting on the cave walls. With the Spanish arrival and later with pirate ships, Mona became a food and water supplier. Later between the 19th and 20th century, more than 600 men extracted guano, a fertilizer, from the caves. Presently it is a natural reserve managed by the Natural Resource and Environment Department and a place where on-going research projects are the preservation of the hawksbill turtle and the big iguanas as well as climate change and geology. Also archeologists from Britain are collaborating with local researchers interpreting Taino culture and pictographs; Speleologists from different parts of the world, together with a couple of Puerto Rican specialists, have mapped already more than 200 caves and continue to visit the island annually.\"\n        ],\n        \"semantic_type\": \"\",\n        \"description\": \"\"\n      }\n    },\n    {\n      \"column\": \"desc_len\",\n      \"properties\": {\n        \"dtype\": \"number\",\n        \"std\": 471,\n        \"min\": 77,\n        \"max\": 10504,\n        \"num_unique_values\": 1080,\n        \"samples\": [\n          1098,\n          629,\n          174\n        ],\n        \"semantic_type\": \"\",\n        \"description\": \"\"\n      }\n    },\n    {\n      \"column\": \"filterd_desc\",\n      \"properties\": {\n        \"dtype\": \"string\",\n        \"num_unique_values\": 3176,\n        \"samples\": [\n          \"hard imagin time intern conflict resolv great distanc excruci suspens commun world power leader depend bike courier telegraph translat servic stood octob discoveri soviet mid rang missil secretli instal cuba sent presid kennedi strateg panic fidel castro slew unfortun militari miscalcul complic alreadi nail bitingli cumbersom negoti process white hous presid khrushchev kremlin world teeter brink nuclear holocaust director emer reynold plot rivet narr weav togeth never releas record presid kennedi tens advisori session person recollect khrushchev son interview featur statesmen soldier stood eyebal eyebal end world\",\n          \"financi collaps polit instabl famili relat place spotlight documentari tri discov what head goldendawn pose victim system golden dawn never hid ideolog influenc poll might almost nonexist previous compat ideolog unshak belief greec cultiv mani clergymen media also famili polit system fertil ground organ flourish director look matter person viewpoint dedic mani year anoth two televis product approach neo nazi parti taken third posit greec polit system three decad obscur bloodi activ\",\n          \"jessica sabrina daian dream like young peopl social class place world live low incom neighborhood peripheri rio de janeiro find prostitut way surviv satisfi consum desir howev even face trial absolut uncertainti lack hope jessica sabrina daian insist love fun plan futur seventeen year old singl mother j ssica live slum daughter britney grandfath horcio repair bicycl surviv best friend also teenag sabrina left mother needi fourteen year old daian left father live aunt uncl peri trio prostitut everi rais money surviv satisfi simpl wish adolesc jessica hire sex prison inmat ricardo ask j ssica quit prostitut propos see hope relationship sabrina becom mistress crimin get pregnant decid babi lover dump daian miss father abus uncl befriend hairdress dolor woman convinc denounc peri\"\n        ],\n        \"semantic_type\": \"\",\n        \"description\": \"\"\n      }\n    },\n    {\n      \"column\": \"filterd_desc_len\",\n      \"properties\": {\n        \"dtype\": \"number\",\n        \"std\": 283,\n        \"min\": 58,\n        \"max\": 6403,\n        \"num_unique_values\": 789,\n        \"samples\": [\n          603,\n          369,\n          162\n        ],\n        \"semantic_type\": \"\",\n        \"description\": \"\"\n      }\n    },\n    {\n      \"column\": \"genre_lbl_encod\",\n      \"properties\": {\n        \"dtype\": \"number\",\n        \"std\": 6,\n        \"min\": 0,\n        \"max\": 26,\n        \"num_unique_values\": 27,\n        \"samples\": [\n          22,\n          20,\n          3\n        ],\n        \"semantic_type\": \"\",\n        \"description\": \"\"\n      }\n    }\n  ]\n}"
            }
          },
          "metadata": {},
          "execution_count": 59
        }
      ]
    },
    {
      "cell_type": "code",
      "source": [
        "# for future use\n",
        "lbl_encod.inverse_transform([24])"
      ],
      "metadata": {
        "colab": {
          "base_uri": "https://localhost:8080/"
        },
        "id": "1eERMl_eh4Kc",
        "outputId": "124b7dd7-0314-4d01-f9af-73d47e27e80f"
      },
      "execution_count": null,
      "outputs": [
        {
          "output_type": "execute_result",
          "data": {
            "text/plain": [
              "array([' thriller '], dtype=object)"
            ]
          },
          "metadata": {},
          "execution_count": 60
        }
      ]
    },
    {
      "cell_type": "code",
      "source": [
        "print('Average length of a description before preprocess',train_data['desc_len'].mean())\n",
        "print('Average length of a description after preprocess',train_data['filterd_desc_len'].mean())"
      ],
      "metadata": {
        "colab": {
          "base_uri": "https://localhost:8080/"
        },
        "id": "4pN-CQNwiZ4X",
        "outputId": "7511ef53-4278-4bf1-f556-89d18021f9ff"
      },
      "execution_count": null,
      "outputs": [
        {
          "output_type": "stream",
          "name": "stdout",
          "text": [
            "Average length of a description before preprocess 607.9443045940843\n",
            "Average length of a description after preprocess 367.44713656387665\n"
          ]
        }
      ]
    },
    {
      "cell_type": "code",
      "source": [
        "# # Stop word removal\n",
        "# eng_stpwrd = set(stopwords.words('english'))\n",
        "\n",
        "# def stopWordFilter(plot):\n",
        "#     filtered = [x for  x in plot.split() if not x in eng_stpwrd]\n",
        "#     return ' '.join(filtered)\n",
        "\n",
        "# train_data['description_new'] = train_data['description'].apply(lambda x : stopWordFilter(x))\n",
        "\n"
      ],
      "metadata": {
        "id": "XWAUWusDmDYi"
      },
      "execution_count": null,
      "outputs": []
    },
    {
      "cell_type": "code",
      "source": [
        "def WordFreqConter(col, items):\n",
        "  txt = ' '.join([plot for plot in col])\n",
        "  txt = txt.split()\n",
        "  frq_dist = nltk.FreqDist(txt)\n",
        "  word_df = pd.DataFrame({'word': list(frq_dist.keys()), 'Frequency':list(frq_dist.values())})\n",
        "\n",
        "  order = word_df.nlargest(columns='Frequency', n=items)\n",
        "  print(word_df.sort_values(by='Frequency',ascending=False))\n",
        "  plt.figure(figsize=(10,10))\n",
        "  ax = sns.barplot(data=order, x='Frequency', y='word')\n",
        "  plt.show()\n",
        "\n",
        "WordFreqConter(train_data['description'],50)"
      ],
      "metadata": {
        "colab": {
          "base_uri": "https://localhost:8080/",
          "height": 1000
        },
        "id": "DBIx4hOFlWIO",
        "outputId": "a9c0f0fe-080d-4b99-a8f6-1315326a95c7"
      },
      "execution_count": null,
      "outputs": [
        {
          "output_type": "stream",
          "name": "stdout",
          "text": [
            "              word  Frequency\n",
            "16             the      17754\n",
            "8              and      11329\n",
            "59              of       9967\n",
            "3                a       9618\n",
            "2               to       9314\n",
            "...            ...        ...\n",
            "24764        burn.          1\n",
            "24763    ambition.          1\n",
            "24762      Monkees          1\n",
            "24761     Monkees.          1\n",
            "48955  discovered,          1\n",
            "\n",
            "[48956 rows x 2 columns]\n"
          ]
        },
        {
          "output_type": "display_data",
          "data": {
            "text/plain": [
              "<Figure size 1000x1000 with 1 Axes>"
            ],
            "image/png": "[encoded data removed]"
          },
          "metadata": {}
        }
      ]
    },
    {
      "cell_type": "code",
      "source": [
        "# Spliting the data for prediction\n",
        "# X = train_df['Processed Description']\n",
        "# y = train_df['genre_le']\n",
        "\n",
        "X , y = train_data['filterd_desc'], train_data['genre_lbl_encod']"
      ],
      "metadata": {
        "id": "MuNUfjz7jMT2"
      },
      "execution_count": null,
      "outputs": []
    },
    {
      "cell_type": "code",
      "source": [
        "# Vectorization on description column using Tf idf Vectorizer\n",
        "vactorizer = TfidfVectorizer()\n",
        "x = vactorizer.fit_transform(X)\n",
        "X_vactor = x.toarray()"
      ],
      "metadata": {
        "id": "dWRa2cWVpwB4"
      },
      "execution_count": null,
      "outputs": []
    },
    {
      "cell_type": "code",
      "source": [
        "# DataFrame after Vectorization\n",
        "\n",
        "pd.DataFrame(data=X_vactor , columns = vactorizer.get_feature_names_out())"
      ],
      "metadata": {
        "colab": {
          "base_uri": "https://localhost:8080/",
          "height": 423
        },
        "id": "K2wL2o4Uqv-S",
        "outputId": "a6db140a-32a1-4603-e920-11f8ebf64621"
      },
      "execution_count": null,
      "outputs": [
        {
          "output_type": "execute_result",
          "data": {
            "text/plain": [
              "      aaa  aalto  aarav  aarohi  aaron  aarti   ab  aba  abandon  abandonado  \\\n",
              "0     0.0    0.0    0.0     0.0    0.0    0.0  0.0  0.0      0.0         0.0   \n",
              "1     0.0    0.0    0.0     0.0    0.0    0.0  0.0  0.0      0.0         0.0   \n",
              "2     0.0    0.0    0.0     0.0    0.0    0.0  0.0  0.0      0.0         0.0   \n",
              "3     0.0    0.0    0.0     0.0    0.0    0.0  0.0  0.0      0.0         0.0   \n",
              "4     0.0    0.0    0.0     0.0    0.0    0.0  0.0  0.0      0.0         0.0   \n",
              "...   ...    ...    ...     ...    ...    ...  ...  ...      ...         ...   \n",
              "3173  0.0    0.0    0.0     0.0    0.0    0.0  0.0  0.0      0.0         0.0   \n",
              "3174  0.0    0.0    0.0     0.0    0.0    0.0  0.0  0.0      0.0         0.0   \n",
              "3175  0.0    0.0    0.0     0.0    0.0    0.0  0.0  0.0      0.0         0.0   \n",
              "3176  0.0    0.0    0.0     0.0    0.0    0.0  0.0  0.0      0.0         0.0   \n",
              "3177  0.0    0.0    0.0     0.0    0.0    0.0  0.0  0.0      0.0         0.0   \n",
              "\n",
              "      ...  zudak  zuleiia  zuleika  zulkifli  zumba  zurich  zuzana  zwart  \\\n",
              "0     ...    0.0      0.0      0.0       0.0    0.0     0.0     0.0    0.0   \n",
              "1     ...    0.0      0.0      0.0       0.0    0.0     0.0     0.0    0.0   \n",
              "2     ...    0.0      0.0      0.0       0.0    0.0     0.0     0.0    0.0   \n",
              "3     ...    0.0      0.0      0.0       0.0    0.0     0.0     0.0    0.0   \n",
              "4     ...    0.0      0.0      0.0       0.0    0.0     0.0     0.0    0.0   \n",
              "...   ...    ...      ...      ...       ...    ...     ...     ...    ...   \n",
              "3173  ...    0.0      0.0      0.0       0.0    0.0     0.0     0.0    0.0   \n",
              "3174  ...    0.0      0.0      0.0       0.0    0.0     0.0     0.0    0.0   \n",
              "3175  ...    0.0      0.0      0.0       0.0    0.0     0.0     0.0    0.0   \n",
              "3176  ...    0.0      0.0      0.0       0.0    0.0     0.0     0.0    0.0   \n",
              "3177  ...    0.0      0.0      0.0       0.0    0.0     0.0     0.0    0.0   \n",
              "\n",
              "      zwei  zwick  \n",
              "0      0.0    0.0  \n",
              "1      0.0    0.0  \n",
              "2      0.0    0.0  \n",
              "3      0.0    0.0  \n",
              "4      0.0    0.0  \n",
              "...    ...    ...  \n",
              "3173   0.0    0.0  \n",
              "3174   0.0    0.0  \n",
              "3175   0.0    0.0  \n",
              "3176   0.0    0.0  \n",
              "3177   0.0    0.0  \n",
              "\n",
              "[3178 rows x 18928 columns]"
            ],
            "text/html": [
              "\n",
              "  <div id=\"df-67911195-d17c-40c8-a4c0-16480c57da24\" class=\"colab-df-container\">\n",
              "    <div>\n",
              "<style scoped>\n",
              "    .dataframe tbody tr th:only-of-type {\n",
              "        vertical-align: middle;\n",
              "    }\n",
              "\n",
              "    .dataframe tbody tr th {\n",
              "        vertical-align: top;\n",
              "    }\n",
              "\n",
              "    .dataframe thead th {\n",
              "        text-align: right;\n",
              "    }\n",
              "</style>\n",
              "<table border=\"1\" class=\"dataframe\">\n",
              "  <thead>\n",
              "    <tr style=\"text-align: right;\">\n",
              "      <th></th>\n",
              "      <th>aaa</th>\n",
              "      <th>aalto</th>\n",
              "      <th>aarav</th>\n",
              "      <th>aarohi</th>\n",
              "      <th>aaron</th>\n",
              "      <th>aarti</th>\n",
              "      <th>ab</th>\n",
              "      <th>aba</th>\n",
              "      <th>abandon</th>\n",
              "      <th>abandonado</th>\n",
              "      <th>...</th>\n",
              "      <th>zudak</th>\n",
              "      <th>zuleiia</th>\n",
              "      <th>zuleika</th>\n",
              "      <th>zulkifli</th>\n",
              "      <th>zumba</th>\n",
              "      <th>zurich</th>\n",
              "      <th>zuzana</th>\n",
              "      <th>zwart</th>\n",
              "      <th>zwei</th>\n",
              "      <th>zwick</th>\n",
              "    </tr>\n",
              "  </thead>\n",
              "  <tbody>\n",
              "    <tr>\n",
              "      <th>0</th>\n",
              "      <td>0.0</td>\n",
              "      <td>0.0</td>\n",
              "      <td>0.0</td>\n",
              "      <td>0.0</td>\n",
              "      <td>0.0</td>\n",
              "      <td>0.0</td>\n",
              "      <td>0.0</td>\n",
              "      <td>0.0</td>\n",
              "      <td>0.0</td>\n",
              "      <td>0.0</td>\n",
              "      <td>...</td>\n",
              "      <td>0.0</td>\n",
              "      <td>0.0</td>\n",
              "      <td>0.0</td>\n",
              "      <td>0.0</td>\n",
              "      <td>0.0</td>\n",
              "      <td>0.0</td>\n",
              "      <td>0.0</td>\n",
              "      <td>0.0</td>\n",
              "      <td>0.0</td>\n",
              "      <td>0.0</td>\n",
              "    </tr>\n",
              "    <tr>\n",
              "      <th>1</th>\n",
              "      <td>0.0</td>\n",
              "      <td>0.0</td>\n",
              "      <td>0.0</td>\n",
              "      <td>0.0</td>\n",
              "      <td>0.0</td>\n",
              "      <td>0.0</td>\n",
              "      <td>0.0</td>\n",
              "      <td>0.0</td>\n",
              "      <td>0.0</td>\n",
              "      <td>0.0</td>\n",
              "      <td>...</td>\n",
              "      <td>0.0</td>\n",
              "      <td>0.0</td>\n",
              "      <td>0.0</td>\n",
              "      <td>0.0</td>\n",
              "      <td>0.0</td>\n",
              "      <td>0.0</td>\n",
              "      <td>0.0</td>\n",
              "      <td>0.0</td>\n",
              "      <td>0.0</td>\n",
              "      <td>0.0</td>\n",
              "    </tr>\n",
              "    <tr>\n",
              "      <th>2</th>\n",
              "      <td>0.0</td>\n",
              "      <td>0.0</td>\n",
              "      <td>0.0</td>\n",
              "      <td>0.0</td>\n",
              "      <td>0.0</td>\n",
              "      <td>0.0</td>\n",
              "      <td>0.0</td>\n",
              "      <td>0.0</td>\n",
              "      <td>0.0</td>\n",
              "      <td>0.0</td>\n",
              "      <td>...</td>\n",
              "      <td>0.0</td>\n",
              "      <td>0.0</td>\n",
              "      <td>0.0</td>\n",
              "      <td>0.0</td>\n",
              "      <td>0.0</td>\n",
              "      <td>0.0</td>\n",
              "      <td>0.0</td>\n",
              "      <td>0.0</td>\n",
              "      <td>0.0</td>\n",
              "      <td>0.0</td>\n",
              "    </tr>\n",
              "    <tr>\n",
              "      <th>3</th>\n",
              "      <td>0.0</td>\n",
              "      <td>0.0</td>\n",
              "      <td>0.0</td>\n",
              "      <td>0.0</td>\n",
              "      <td>0.0</td>\n",
              "      <td>0.0</td>\n",
              "      <td>0.0</td>\n",
              "      <td>0.0</td>\n",
              "      <td>0.0</td>\n",
              "      <td>0.0</td>\n",
              "      <td>...</td>\n",
              "      <td>0.0</td>\n",
              "      <td>0.0</td>\n",
              "      <td>0.0</td>\n",
              "      <td>0.0</td>\n",
              "      <td>0.0</td>\n",
              "      <td>0.0</td>\n",
              "      <td>0.0</td>\n",
              "      <td>0.0</td>\n",
              "      <td>0.0</td>\n",
              "      <td>0.0</td>\n",
              "    </tr>\n",
              "    <tr>\n",
              "      <th>4</th>\n",
              "      <td>0.0</td>\n",
              "      <td>0.0</td>\n",
              "      <td>0.0</td>\n",
              "      <td>0.0</td>\n",
              "      <td>0.0</td>\n",
              "      <td>0.0</td>\n",
              "      <td>0.0</td>\n",
              "      <td>0.0</td>\n",
              "      <td>0.0</td>\n",
              "      <td>0.0</td>\n",
              "      <td>...</td>\n",
              "      <td>0.0</td>\n",
              "      <td>0.0</td>\n",
              "      <td>0.0</td>\n",
              "      <td>0.0</td>\n",
              "      <td>0.0</td>\n",
              "      <td>0.0</td>\n",
              "      <td>0.0</td>\n",
              "      <td>0.0</td>\n",
              "      <td>0.0</td>\n",
              "      <td>0.0</td>\n",
              "    </tr>\n",
              "    <tr>\n",
              "      <th>...</th>\n",
              "      <td>...</td>\n",
              "      <td>...</td>\n",
              "      <td>...</td>\n",
              "      <td>...</td>\n",
              "      <td>...</td>\n",
              "      <td>...</td>\n",
              "      <td>...</td>\n",
              "      <td>...</td>\n",
              "      <td>...</td>\n",
              "      <td>...</td>\n",
              "      <td>...</td>\n",
              "      <td>...</td>\n",
              "      <td>...</td>\n",
              "      <td>...</td>\n",
              "      <td>...</td>\n",
              "      <td>...</td>\n",
              "      <td>...</td>\n",
              "      <td>...</td>\n",
              "      <td>...</td>\n",
              "      <td>...</td>\n",
              "      <td>...</td>\n",
              "    </tr>\n",
              "    <tr>\n",
              "      <th>3173</th>\n",
              "      <td>0.0</td>\n",
              "      <td>0.0</td>\n",
              "      <td>0.0</td>\n",
              "      <td>0.0</td>\n",
              "      <td>0.0</td>\n",
              "      <td>0.0</td>\n",
              "      <td>0.0</td>\n",
              "      <td>0.0</td>\n",
              "      <td>0.0</td>\n",
              "      <td>0.0</td>\n",
              "      <td>...</td>\n",
              "      <td>0.0</td>\n",
              "      <td>0.0</td>\n",
              "      <td>0.0</td>\n",
              "      <td>0.0</td>\n",
              "      <td>0.0</td>\n",
              "      <td>0.0</td>\n",
              "      <td>0.0</td>\n",
              "      <td>0.0</td>\n",
              "      <td>0.0</td>\n",
              "      <td>0.0</td>\n",
              "    </tr>\n",
              "    <tr>\n",
              "      <th>3174</th>\n",
              "      <td>0.0</td>\n",
              "      <td>0.0</td>\n",
              "      <td>0.0</td>\n",
              "      <td>0.0</td>\n",
              "      <td>0.0</td>\n",
              "      <td>0.0</td>\n",
              "      <td>0.0</td>\n",
              "      <td>0.0</td>\n",
              "      <td>0.0</td>\n",
              "      <td>0.0</td>\n",
              "      <td>...</td>\n",
              "      <td>0.0</td>\n",
              "      <td>0.0</td>\n",
              "      <td>0.0</td>\n",
              "      <td>0.0</td>\n",
              "      <td>0.0</td>\n",
              "      <td>0.0</td>\n",
              "      <td>0.0</td>\n",
              "      <td>0.0</td>\n",
              "      <td>0.0</td>\n",
              "      <td>0.0</td>\n",
              "    </tr>\n",
              "    <tr>\n",
              "      <th>3175</th>\n",
              "      <td>0.0</td>\n",
              "      <td>0.0</td>\n",
              "      <td>0.0</td>\n",
              "      <td>0.0</td>\n",
              "      <td>0.0</td>\n",
              "      <td>0.0</td>\n",
              "      <td>0.0</td>\n",
              "      <td>0.0</td>\n",
              "      <td>0.0</td>\n",
              "      <td>0.0</td>\n",
              "      <td>...</td>\n",
              "      <td>0.0</td>\n",
              "      <td>0.0</td>\n",
              "      <td>0.0</td>\n",
              "      <td>0.0</td>\n",
              "      <td>0.0</td>\n",
              "      <td>0.0</td>\n",
              "      <td>0.0</td>\n",
              "      <td>0.0</td>\n",
              "      <td>0.0</td>\n",
              "      <td>0.0</td>\n",
              "    </tr>\n",
              "    <tr>\n",
              "      <th>3176</th>\n",
              "      <td>0.0</td>\n",
              "      <td>0.0</td>\n",
              "      <td>0.0</td>\n",
              "      <td>0.0</td>\n",
              "      <td>0.0</td>\n",
              "      <td>0.0</td>\n",
              "      <td>0.0</td>\n",
              "      <td>0.0</td>\n",
              "      <td>0.0</td>\n",
              "      <td>0.0</td>\n",
              "      <td>...</td>\n",
              "      <td>0.0</td>\n",
              "      <td>0.0</td>\n",
              "      <td>0.0</td>\n",
              "      <td>0.0</td>\n",
              "      <td>0.0</td>\n",
              "      <td>0.0</td>\n",
              "      <td>0.0</td>\n",
              "      <td>0.0</td>\n",
              "      <td>0.0</td>\n",
              "      <td>0.0</td>\n",
              "    </tr>\n",
              "    <tr>\n",
              "      <th>3177</th>\n",
              "      <td>0.0</td>\n",
              "      <td>0.0</td>\n",
              "      <td>0.0</td>\n",
              "      <td>0.0</td>\n",
              "      <td>0.0</td>\n",
              "      <td>0.0</td>\n",
              "      <td>0.0</td>\n",
              "      <td>0.0</td>\n",
              "      <td>0.0</td>\n",
              "      <td>0.0</td>\n",
              "      <td>...</td>\n",
              "      <td>0.0</td>\n",
              "      <td>0.0</td>\n",
              "      <td>0.0</td>\n",
              "      <td>0.0</td>\n",
              "      <td>0.0</td>\n",
              "      <td>0.0</td>\n",
              "      <td>0.0</td>\n",
              "      <td>0.0</td>\n",
              "      <td>0.0</td>\n",
              "      <td>0.0</td>\n",
              "    </tr>\n",
              "  </tbody>\n",
              "</table>\n",
              "<p>3178 rows × 18928 columns</p>\n",
              "</div>\n",
              "    <div class=\"colab-df-buttons\">\n",
              "\n",
              "  <div class=\"colab-df-container\">\n",
              "    <button class=\"colab-df-convert\" onclick=\"convertToInteractive('df-67911195-d17c-40c8-a4c0-16480c57da24')\"\n",
              "            title=\"Convert this dataframe to an interactive table.\"\n",
              "            style=\"display:none;\">\n",
              "\n",
              "  <svg xmlns=\"http://www.w3.org/2000/svg\" height=\"24px\" viewBox=\"0 -960 960 960\">\n",
              "    <path d=\"M120-120v-720h720v720H120Zm60-500h600v-160H180v160Zm220 220h160v-160H400v160Zm0 220h160v-160H400v160ZM180-400h160v-160H180v160Zm440 0h160v-160H620v160ZM180-180h160v-160H180v160Zm440 0h160v-160H620v160Z\"/>\n",
              "  </svg>\n",
              "    </button>\n",
              "\n",
              "  <style>\n",
              "    .colab-df-container {\n",
              "      display:flex;\n",
              "      gap: 12px;\n",
              "    }\n",
              "\n",
              "    .colab-df-convert {\n",
              "      background-color: #E8F0FE;\n",
              "      border: none;\n",
              "      border-radius: 50%;\n",
              "      cursor: pointer;\n",
              "      display: none;\n",
              "      fill: #1967D2;\n",
              "      height: 32px;\n",
              "      padding: 0 0 0 0;\n",
              "      width: 32px;\n",
              "    }\n",
              "\n",
              "    .colab-df-convert:hover {\n",
              "      background-color: #E2EBFA;\n",
              "      box-shadow: 0px 1px 2px rgba(60, 64, 67, 0.3), 0px 1px 3px 1px rgba(60, 64, 67, 0.15);\n",
              "      fill: #174EA6;\n",
              "    }\n",
              "\n",
              "    .colab-df-buttons div {\n",
              "      margin-bottom: 4px;\n",
              "    }\n",
              "\n",
              "    [theme=dark] .colab-df-convert {\n",
              "      background-color: #3B4455;\n",
              "      fill: #D2E3FC;\n",
              "    }\n",
              "\n",
              "    [theme=dark] .colab-df-convert:hover {\n",
              "      background-color: #434B5C;\n",
              "      box-shadow: 0px 1px 3px 1px rgba(0, 0, 0, 0.15);\n",
              "      filter: drop-shadow(0px 1px 2px rgba(0, 0, 0, 0.3));\n",
              "      fill: #FFFFFF;\n",
              "    }\n",
              "  </style>\n",
              "\n",
              "    <script>\n",
              "      const buttonEl =\n",
              "        document.querySelector('#df-67911195-d17c-40c8-a4c0-16480c57da24 button.colab-df-convert');\n",
              "      buttonEl.style.display =\n",
              "        google.colab.kernel.accessAllowed ? 'block' : 'none';\n",
              "\n",
              "      async function convertToInteractive(key) {\n",
              "        const element = document.querySelector('#df-67911195-d17c-40c8-a4c0-16480c57da24');\n",
              "        const dataTable =\n",
              "          await google.colab.kernel.invokeFunction('convertToInteractive',\n",
              "                                                    [key], {});\n",
              "        if (!dataTable) return;\n",
              "\n",
              "        const docLinkHtml = 'Like what you see? Visit the ' +\n",
              "          '<a target=\"_blank\" href=https://colab.research.google.com/notebooks/data_table.ipynb>data table notebook</a>'\n",
              "          + ' to learn more about interactive tables.';\n",
              "        element.innerHTML = '';\n",
              "        dataTable['output_type'] = 'display_data';\n",
              "        await google.colab.output.renderOutput(dataTable, element);\n",
              "        const docLink = document.createElement('div');\n",
              "        docLink.innerHTML = docLinkHtml;\n",
              "        element.appendChild(docLink);\n",
              "      }\n",
              "    </script>\n",
              "  </div>\n",
              "\n",
              "\n",
              "<div id=\"df-15060f65-bf80-4f87-bdac-7346f536efd8\">\n",
              "  <button class=\"colab-df-quickchart\" onclick=\"quickchart('df-15060f65-bf80-4f87-bdac-7346f536efd8')\"\n",
              "            title=\"Suggest charts\"\n",
              "            style=\"display:none;\">\n",
              "\n",
              "<svg xmlns=\"http://www.w3.org/2000/svg\" height=\"24px\"viewBox=\"0 0 24 24\"\n",
              "     width=\"24px\">\n",
              "    <g>\n",
              "        <path d=\"M19 3H5c-1.1 0-2 .9-2 2v14c0 1.1.9 2 2 2h14c1.1 0 2-.9 2-2V5c0-1.1-.9-2-2-2zM9 17H7v-7h2v7zm4 0h-2V7h2v10zm4 0h-2v-4h2v4z\"/>\n",
              "    </g>\n",
              "</svg>\n",
              "  </button>\n",
              "\n",
              "<style>\n",
              "  .colab-df-quickchart {\n",
              "      --bg-color: #E8F0FE;\n",
              "      --fill-color: #1967D2;\n",
              "      --hover-bg-color: #E2EBFA;\n",
              "      --hover-fill-color: #174EA6;\n",
              "      --disabled-fill-color: #AAA;\n",
              "      --disabled-bg-color: #DDD;\n",
              "  }\n",
              "\n",
              "  [theme=dark] .colab-df-quickchart {\n",
              "      --bg-color: #3B4455;\n",
              "      --fill-color: #D2E3FC;\n",
              "      --hover-bg-color: #434B5C;\n",
              "      --hover-fill-color: #FFFFFF;\n",
              "      --disabled-bg-color: #3B4455;\n",
              "      --disabled-fill-color: #666;\n",
              "  }\n",
              "\n",
              "  .colab-df-quickchart {\n",
              "    background-color: var(--bg-color);\n",
              "    border: none;\n",
              "    border-radius: 50%;\n",
              "    cursor: pointer;\n",
              "    display: none;\n",
              "    fill: var(--fill-color);\n",
              "    height: 32px;\n",
              "    padding: 0;\n",
              "    width: 32px;\n",
              "  }\n",
              "\n",
              "  .colab-df-quickchart:hover {\n",
              "    background-color: var(--hover-bg-color);\n",
              "    box-shadow: 0 1px 2px rgba(60, 64, 67, 0.3), 0 1px 3px 1px rgba(60, 64, 67, 0.15);\n",
              "    fill: var(--button-hover-fill-color);\n",
              "  }\n",
              "\n",
              "  .colab-df-quickchart-complete:disabled,\n",
              "  .colab-df-quickchart-complete:disabled:hover {\n",
              "    background-color: var(--disabled-bg-color);\n",
              "    fill: var(--disabled-fill-color);\n",
              "    box-shadow: none;\n",
              "  }\n",
              "\n",
              "  .colab-df-spinner {\n",
              "    border: 2px solid var(--fill-color);\n",
              "    border-color: transparent;\n",
              "    border-bottom-color: var(--fill-color);\n",
              "    animation:\n",
              "      spin 1s steps(1) infinite;\n",
              "  }\n",
              "\n",
              "  @keyframes spin {\n",
              "    0% {\n",
              "      border-color: transparent;\n",
              "      border-bottom-color: var(--fill-color);\n",
              "      border-left-color: var(--fill-color);\n",
              "    }\n",
              "    20% {\n",
              "      border-color: transparent;\n",
              "      border-left-color: var(--fill-color);\n",
              "      border-top-color: var(--fill-color);\n",
              "    }\n",
              "    30% {\n",
              "      border-color: transparent;\n",
              "      border-left-color: var(--fill-color);\n",
              "      border-top-color: var(--fill-color);\n",
              "      border-right-color: var(--fill-color);\n",
              "    }\n",
              "    40% {\n",
              "      border-color: transparent;\n",
              "      border-right-color: var(--fill-color);\n",
              "      border-top-color: var(--fill-color);\n",
              "    }\n",
              "    60% {\n",
              "      border-color: transparent;\n",
              "      border-right-color: var(--fill-color);\n",
              "    }\n",
              "    80% {\n",
              "      border-color: transparent;\n",
              "      border-right-color: var(--fill-color);\n",
              "      border-bottom-color: var(--fill-color);\n",
              "    }\n",
              "    90% {\n",
              "      border-color: transparent;\n",
              "      border-bottom-color: var(--fill-color);\n",
              "    }\n",
              "  }\n",
              "</style>\n",
              "\n",
              "  <script>\n",
              "    async function quickchart(key) {\n",
              "      const quickchartButtonEl =\n",
              "        document.querySelector('#' + key + ' button');\n",
              "      quickchartButtonEl.disabled = true;  // To prevent multiple clicks.\n",
              "      quickchartButtonEl.classList.add('colab-df-spinner');\n",
              "      try {\n",
              "        const charts = await google.colab.kernel.invokeFunction(\n",
              "            'suggestCharts', [key], {});\n",
              "      } catch (error) {\n",
              "        console.error('Error during call to suggestCharts:', error);\n",
              "      }\n",
              "      quickchartButtonEl.classList.remove('colab-df-spinner');\n",
              "      quickchartButtonEl.classList.add('colab-df-quickchart-complete');\n",
              "    }\n",
              "    (() => {\n",
              "      let quickchartButtonEl =\n",
              "        document.querySelector('#df-15060f65-bf80-4f87-bdac-7346f536efd8 button');\n",
              "      quickchartButtonEl.style.display =\n",
              "        google.colab.kernel.accessAllowed ? 'block' : 'none';\n",
              "    })();\n",
              "  </script>\n",
              "</div>\n",
              "\n",
              "    </div>\n",
              "  </div>\n"
            ],
            "application/vnd.google.colaboratory.intrinsic+json": {
              "type": "dataframe"
            }
          },
          "metadata": {},
          "execution_count": 66
        }
      ]
    },
    {
      "cell_type": "markdown",
      "source": [
        "#Model Building"
      ],
      "metadata": {
        "id": "7fwYYCfGtsen"
      }
    },
    {
      "cell_type": "code",
      "source": [
        "X_train, X_test, y_train, y_test = train_test_split(X_vactor,y,test_size=0.2, random_state=42)\n",
        "X_train.shape"
      ],
      "metadata": {
        "colab": {
          "base_uri": "https://localhost:8080/"
        },
        "id": "HxqSTTS6rLJa",
        "outputId": "1261b147-643a-489b-bb31-fcdeb59d21bd"
      },
      "execution_count": null,
      "outputs": [
        {
          "output_type": "execute_result",
          "data": {
            "text/plain": [
              "(2542, 18928)"
            ]
          },
          "metadata": {},
          "execution_count": 67
        }
      ]
    },
    {
      "cell_type": "markdown",
      "source": [
        "> LR Model"
      ],
      "metadata": {
        "id": "ajQQwJtLtwMI"
      }
    },
    {
      "cell_type": "code",
      "source": [
        "lr_model = LogisticRegression(penalty='l1',solver='liblinear',C=1.0)\n",
        "lr_model.fit(X_train, y_train)\n",
        "\n",
        "print(\"Scores\",lr_model.score(X_train,y_train), lr_model.score(X_test, y_test))"
      ],
      "metadata": {
        "colab": {
          "base_uri": "https://localhost:8080/"
        },
        "id": "cwdVopiXtpMp",
        "outputId": "26d9cc45-32ab-45b6-9e0d-d4c4578f59d9"
      },
      "execution_count": null,
      "outputs": [
        {
          "output_type": "stream",
          "name": "stdout",
          "text": [
            "Scores 0.4752163650668765 0.43553459119496857\n"
          ]
        }
      ]
    },
    {
      "cell_type": "markdown",
      "source": [
        "**penalty='l1': This parameter specifies the regularization penalty to be applied. In this case, 'l1' refers to L1 regularization, which penalizes the absolute values of the model coefficients.**\n",
        "\n",
        "**solver='liblinear': This parameter specifies the solver algorithm to use for optimization. In this case, 'liblinear' is specified, which is a type of solver suitable for small datasets.**\n",
        "\n",
        "**C=1.0: This parameter specifies the strength of the regularization penalty. A higher value of C indicates less regularization, while a lower value indicates more regularization. In this case, C=1.0 specifies a moderate level of regularization**"
      ],
      "metadata": {
        "id": "wCxMIFjMuRJN"
      }
    },
    {
      "cell_type": "code",
      "source": [
        "y_pred = lr_model.predict(X_test)\n",
        "print(classification_report(y_test,y_pred))"
      ],
      "metadata": {
        "colab": {
          "base_uri": "https://localhost:8080/"
        },
        "id": "6n0QEAJbwItS",
        "outputId": "b8f16a3e-07d2-48da-e7cf-10eca022652f"
      },
      "execution_count": null,
      "outputs": [
        {
          "output_type": "stream",
          "name": "stdout",
          "text": [
            "              precision    recall  f1-score   support\n",
            "\n",
            "           0       0.00      0.00      0.00        15\n",
            "           1       0.00      0.00      0.00        11\n",
            "           2       0.00      0.00      0.00         8\n",
            "           3       0.00      0.00      0.00         6\n",
            "           4       0.00      0.00      0.00         4\n",
            "           5       0.38      0.24      0.30        74\n",
            "           6       0.00      0.00      0.00         6\n",
            "           7       0.50      0.79      0.61       160\n",
            "           8       0.39      0.79      0.52       154\n",
            "           9       0.00      0.00      0.00        10\n",
            "          10       0.00      0.00      0.00         3\n",
            "          11       0.00      0.00      0.00         2\n",
            "          12       0.00      0.00      0.00         3\n",
            "          13       0.25      0.04      0.07        23\n",
            "          14       0.00      0.00      0.00        16\n",
            "          15       0.00      0.00      0.00         2\n",
            "          16       0.00      0.00      0.00         2\n",
            "          17       0.00      0.00      0.00         2\n",
            "          18       0.00      0.00      0.00         9\n",
            "          19       0.00      0.00      0.00         5\n",
            "          20       0.00      0.00      0.00         7\n",
            "          21       1.00      0.10      0.18        70\n",
            "          22       0.00      0.00      0.00         4\n",
            "          23       0.00      0.00      0.00         3\n",
            "          24       0.00      0.00      0.00        21\n",
            "          25       0.00      0.00      0.00         3\n",
            "          26       0.60      0.23      0.33        13\n",
            "\n",
            "    accuracy                           0.44       636\n",
            "   macro avg       0.12      0.08      0.07       636\n",
            "weighted avg       0.39      0.44      0.34       636\n",
            "\n"
          ]
        }
      ]
    },
    {
      "cell_type": "markdown",
      "source": [
        "> MNB"
      ],
      "metadata": {
        "id": "1BAllu90zqwq"
      }
    },
    {
      "cell_type": "code",
      "source": [
        "mnb_model = MultinomialNB()\n",
        "mnb_model.fit(X_train,y_train)\n",
        "mnb_model.score(X_train,y_train),mnb_model.score(X_test,y_test)"
      ],
      "metadata": {
        "colab": {
          "base_uri": "https://localhost:8080/"
        },
        "id": "7BpOmzYDzSpq",
        "outputId": "7a5fabee-52f9-4e49-e9c5-27823cb9bfae"
      },
      "execution_count": null,
      "outputs": [
        {
          "output_type": "execute_result",
          "data": {
            "text/plain": [
              "(0.4885916601101495, 0.4386792452830189)"
            ]
          },
          "metadata": {},
          "execution_count": 70
        }
      ]
    },
    {
      "cell_type": "code",
      "source": [
        "# Classification Report\n",
        "y_pred = mnb_model.predict(X_test)\n",
        "print(classification_report(y_test,y_pred))"
      ],
      "metadata": {
        "colab": {
          "base_uri": "https://localhost:8080/"
        },
        "id": "M-Gwn1Wzzhp0",
        "outputId": "920c999d-fc7d-4827-fdd6-0d6e728475ea"
      },
      "execution_count": null,
      "outputs": [
        {
          "output_type": "stream",
          "name": "stdout",
          "text": [
            "              precision    recall  f1-score   support\n",
            "\n",
            "           0       0.00      0.00      0.00        15\n",
            "           1       0.00      0.00      0.00        11\n",
            "           2       0.00      0.00      0.00         8\n",
            "           3       0.00      0.00      0.00         6\n",
            "           4       0.00      0.00      0.00         4\n",
            "           5       0.33      0.01      0.03        74\n",
            "           6       0.00      0.00      0.00         6\n",
            "           7       0.58      0.85      0.69       160\n",
            "           8       0.36      0.92      0.51       154\n",
            "           9       0.00      0.00      0.00        10\n",
            "          10       0.00      0.00      0.00         3\n",
            "          11       0.00      0.00      0.00         2\n",
            "          12       0.00      0.00      0.00         3\n",
            "          13       0.00      0.00      0.00        23\n",
            "          14       0.00      0.00      0.00        16\n",
            "          15       0.00      0.00      0.00         2\n",
            "          16       0.00      0.00      0.00         2\n",
            "          17       0.00      0.00      0.00         2\n",
            "          18       0.00      0.00      0.00         9\n",
            "          19       0.00      0.00      0.00         5\n",
            "          20       0.00      0.00      0.00         7\n",
            "          21       0.00      0.00      0.00        70\n",
            "          22       0.00      0.00      0.00         4\n",
            "          23       0.00      0.00      0.00         3\n",
            "          24       0.00      0.00      0.00        21\n",
            "          25       0.00      0.00      0.00         3\n",
            "          26       0.00      0.00      0.00        13\n",
            "\n",
            "    accuracy                           0.44       636\n",
            "   macro avg       0.05      0.07      0.05       636\n",
            "weighted avg       0.27      0.44      0.30       636\n",
            "\n"
          ]
        }
      ]
    },
    {
      "cell_type": "markdown",
      "source": [
        "> Decision tree\n"
      ],
      "metadata": {
        "id": "UXw-8IjdzvVE"
      }
    },
    {
      "cell_type": "code",
      "source": [
        "dct_model = DecisionTreeClassifier(max_depth=8)\n",
        "dct_model.fit(X_train,y_train)\n",
        "dct_model.score(X_train,y_train),dct_model.score(X_test,y_test)"
      ],
      "metadata": {
        "colab": {
          "base_uri": "https://localhost:8080/"
        },
        "id": "QndhGkdZzkXZ",
        "outputId": "735440f2-866f-4b7b-db18-0539bb86dc32"
      },
      "execution_count": null,
      "outputs": [
        {
          "output_type": "execute_result",
          "data": {
            "text/plain": [
              "(0.43273013375295044, 0.36792452830188677)"
            ]
          },
          "metadata": {},
          "execution_count": 72
        }
      ]
    },
    {
      "cell_type": "code",
      "source": [
        "y_pred = dct_model.predict(X_test)\n",
        "print(classification_report(y_test,y_pred))"
      ],
      "metadata": {
        "colab": {
          "base_uri": "https://localhost:8080/"
        },
        "id": "s0pQs81X0tkD",
        "outputId": "e89fc2a6-cf60-4a05-89d9-092f61fc7d2d"
      },
      "execution_count": null,
      "outputs": [
        {
          "output_type": "stream",
          "name": "stdout",
          "text": [
            "              precision    recall  f1-score   support\n",
            "\n",
            "           0       0.00      0.00      0.00        15\n",
            "           1       0.00      0.00      0.00        11\n",
            "           2       0.00      0.00      0.00         8\n",
            "           3       0.00      0.00      0.00         6\n",
            "           4       0.00      0.00      0.00         4\n",
            "           5       0.61      0.15      0.24        74\n",
            "           6       0.00      0.00      0.00         6\n",
            "           7       0.49      0.62      0.55       160\n",
            "           8       0.30      0.77      0.43       154\n",
            "           9       0.00      0.00      0.00        10\n",
            "          10       0.00      0.00      0.00         3\n",
            "          11       0.00      0.00      0.00         2\n",
            "          12       0.00      0.00      0.00         3\n",
            "          13       0.00      0.00      0.00        23\n",
            "          14       0.00      0.00      0.00        16\n",
            "          15       0.00      0.00      0.00         2\n",
            "          16       0.00      0.00      0.00         2\n",
            "          17       0.00      0.00      0.00         2\n",
            "          18       0.00      0.00      0.00         9\n",
            "          19       0.00      0.00      0.00         5\n",
            "          20       0.00      0.00      0.00         7\n",
            "          21       0.62      0.07      0.13        70\n",
            "          22       0.00      0.00      0.00         4\n",
            "          23       0.00      0.00      0.00         3\n",
            "          24       0.00      0.00      0.00        21\n",
            "          25       0.00      0.00      0.00         3\n",
            "          26       1.00      0.08      0.14        13\n",
            "\n",
            "    accuracy                           0.37       636\n",
            "   macro avg       0.11      0.06      0.06       636\n",
            "weighted avg       0.36      0.37      0.29       636\n",
            "\n"
          ]
        }
      ]
    },
    {
      "cell_type": "markdown",
      "source": [
        "> **Results**"
      ],
      "metadata": {
        "id": "VZJT36rI1SIu"
      }
    },
    {
      "cell_type": "code",
      "source": [
        "accuracy = {'Model':['LR','MNB','DCT'],\n",
        "            'Accuracy':[43.55,43.86,36.79]}\n",
        "pd.DataFrame(accuracy)"
      ],
      "metadata": {
        "colab": {
          "base_uri": "https://localhost:8080/",
          "height": 143
        },
        "id": "jIG7eRId1B4p",
        "outputId": "4bf926c0-17de-4731-9e58-6fba780e7791"
      },
      "execution_count": null,
      "outputs": [
        {
          "output_type": "execute_result",
          "data": {
            "text/plain": [
              "  Model  Accuracy\n",
              "0    LR     43.55\n",
              "1   MNB     43.86\n",
              "2   DCT     36.79"
            ],
            "text/html": [
              "\n",
              "  <div id=\"df-39049dcb-e4ae-4a37-83ec-458af9988dfc\" class=\"colab-df-container\">\n",
              "    <div>\n",
              "<style scoped>\n",
              "    .dataframe tbody tr th:only-of-type {\n",
              "        vertical-align: middle;\n",
              "    }\n",
              "\n",
              "    .dataframe tbody tr th {\n",
              "        vertical-align: top;\n",
              "    }\n",
              "\n",
              "    .dataframe thead th {\n",
              "        text-align: right;\n",
              "    }\n",
              "</style>\n",
              "<table border=\"1\" class=\"dataframe\">\n",
              "  <thead>\n",
              "    <tr style=\"text-align: right;\">\n",
              "      <th></th>\n",
              "      <th>Model</th>\n",
              "      <th>Accuracy</th>\n",
              "    </tr>\n",
              "  </thead>\n",
              "  <tbody>\n",
              "    <tr>\n",
              "      <th>0</th>\n",
              "      <td>LR</td>\n",
              "      <td>43.55</td>\n",
              "    </tr>\n",
              "    <tr>\n",
              "      <th>1</th>\n",
              "      <td>MNB</td>\n",
              "      <td>43.86</td>\n",
              "    </tr>\n",
              "    <tr>\n",
              "      <th>2</th>\n",
              "      <td>DCT</td>\n",
              "      <td>36.79</td>\n",
              "    </tr>\n",
              "  </tbody>\n",
              "</table>\n",
              "</div>\n",
              "    <div class=\"colab-df-buttons\">\n",
              "\n",
              "  <div class=\"colab-df-container\">\n",
              "    <button class=\"colab-df-convert\" onclick=\"convertToInteractive('df-39049dcb-e4ae-4a37-83ec-458af9988dfc')\"\n",
              "            title=\"Convert this dataframe to an interactive table.\"\n",
              "            style=\"display:none;\">\n",
              "\n",
              "  <svg xmlns=\"http://www.w3.org/2000/svg\" height=\"24px\" viewBox=\"0 -960 960 960\">\n",
              "    <path d=\"M120-120v-720h720v720H120Zm60-500h600v-160H180v160Zm220 220h160v-160H400v160Zm0 220h160v-160H400v160ZM180-400h160v-160H180v160Zm440 0h160v-160H620v160ZM180-180h160v-160H180v160Zm440 0h160v-160H620v160Z\"/>\n",
              "  </svg>\n",
              "    </button>\n",
              "\n",
              "  <style>\n",
              "    .colab-df-container {\n",
              "      display:flex;\n",
              "      gap: 12px;\n",
              "    }\n",
              "\n",
              "    .colab-df-convert {\n",
              "      background-color: #E8F0FE;\n",
              "      border: none;\n",
              "      border-radius: 50%;\n",
              "      cursor: pointer;\n",
              "      display: none;\n",
              "      fill: #1967D2;\n",
              "      height: 32px;\n",
              "      padding: 0 0 0 0;\n",
              "      width: 32px;\n",
              "    }\n",
              "\n",
              "    .colab-df-convert:hover {\n",
              "      background-color: #E2EBFA;\n",
              "      box-shadow: 0px 1px 2px rgba(60, 64, 67, 0.3), 0px 1px 3px 1px rgba(60, 64, 67, 0.15);\n",
              "      fill: #174EA6;\n",
              "    }\n",
              "\n",
              "    .colab-df-buttons div {\n",
              "      margin-bottom: 4px;\n",
              "    }\n",
              "\n",
              "    [theme=dark] .colab-df-convert {\n",
              "      background-color: #3B4455;\n",
              "      fill: #D2E3FC;\n",
              "    }\n",
              "\n",
              "    [theme=dark] .colab-df-convert:hover {\n",
              "      background-color: #434B5C;\n",
              "      box-shadow: 0px 1px 3px 1px rgba(0, 0, 0, 0.15);\n",
              "      filter: drop-shadow(0px 1px 2px rgba(0, 0, 0, 0.3));\n",
              "      fill: #FFFFFF;\n",
              "    }\n",
              "  </style>\n",
              "\n",
              "    <script>\n",
              "      const buttonEl =\n",
              "        document.querySelector('#df-39049dcb-e4ae-4a37-83ec-458af9988dfc button.colab-df-convert');\n",
              "      buttonEl.style.display =\n",
              "        google.colab.kernel.accessAllowed ? 'block' : 'none';\n",
              "\n",
              "      async function convertToInteractive(key) {\n",
              "        const element = document.querySelector('#df-39049dcb-e4ae-4a37-83ec-458af9988dfc');\n",
              "        const dataTable =\n",
              "          await google.colab.kernel.invokeFunction('convertToInteractive',\n",
              "                                                    [key], {});\n",
              "        if (!dataTable) return;\n",
              "\n",
              "        const docLinkHtml = 'Like what you see? Visit the ' +\n",
              "          '<a target=\"_blank\" href=https://colab.research.google.com/notebooks/data_table.ipynb>data table notebook</a>'\n",
              "          + ' to learn more about interactive tables.';\n",
              "        element.innerHTML = '';\n",
              "        dataTable['output_type'] = 'display_data';\n",
              "        await google.colab.output.renderOutput(dataTable, element);\n",
              "        const docLink = document.createElement('div');\n",
              "        docLink.innerHTML = docLinkHtml;\n",
              "        element.appendChild(docLink);\n",
              "      }\n",
              "    </script>\n",
              "  </div>\n",
              "\n",
              "\n",
              "<div id=\"df-1aaa315c-be4b-4abf-9642-c09c9ba79a4b\">\n",
              "  <button class=\"colab-df-quickchart\" onclick=\"quickchart('df-1aaa315c-be4b-4abf-9642-c09c9ba79a4b')\"\n",
              "            title=\"Suggest charts\"\n",
              "            style=\"display:none;\">\n",
              "\n",
              "<svg xmlns=\"http://www.w3.org/2000/svg\" height=\"24px\"viewBox=\"0 0 24 24\"\n",
              "     width=\"24px\">\n",
              "    <g>\n",
              "        <path d=\"M19 3H5c-1.1 0-2 .9-2 2v14c0 1.1.9 2 2 2h14c1.1 0 2-.9 2-2V5c0-1.1-.9-2-2-2zM9 17H7v-7h2v7zm4 0h-2V7h2v10zm4 0h-2v-4h2v4z\"/>\n",
              "    </g>\n",
              "</svg>\n",
              "  </button>\n",
              "\n",
              "<style>\n",
              "  .colab-df-quickchart {\n",
              "      --bg-color: #E8F0FE;\n",
              "      --fill-color: #1967D2;\n",
              "      --hover-bg-color: #E2EBFA;\n",
              "      --hover-fill-color: #174EA6;\n",
              "      --disabled-fill-color: #AAA;\n",
              "      --disabled-bg-color: #DDD;\n",
              "  }\n",
              "\n",
              "  [theme=dark] .colab-df-quickchart {\n",
              "      --bg-color: #3B4455;\n",
              "      --fill-color: #D2E3FC;\n",
              "      --hover-bg-color: #434B5C;\n",
              "      --hover-fill-color: #FFFFFF;\n",
              "      --disabled-bg-color: #3B4455;\n",
              "      --disabled-fill-color: #666;\n",
              "  }\n",
              "\n",
              "  .colab-df-quickchart {\n",
              "    background-color: var(--bg-color);\n",
              "    border: none;\n",
              "    border-radius: 50%;\n",
              "    cursor: pointer;\n",
              "    display: none;\n",
              "    fill: var(--fill-color);\n",
              "    height: 32px;\n",
              "    padding: 0;\n",
              "    width: 32px;\n",
              "  }\n",
              "\n",
              "  .colab-df-quickchart:hover {\n",
              "    background-color: var(--hover-bg-color);\n",
              "    box-shadow: 0 1px 2px rgba(60, 64, 67, 0.3), 0 1px 3px 1px rgba(60, 64, 67, 0.15);\n",
              "    fill: var(--button-hover-fill-color);\n",
              "  }\n",
              "\n",
              "  .colab-df-quickchart-complete:disabled,\n",
              "  .colab-df-quickchart-complete:disabled:hover {\n",
              "    background-color: var(--disabled-bg-color);\n",
              "    fill: var(--disabled-fill-color);\n",
              "    box-shadow: none;\n",
              "  }\n",
              "\n",
              "  .colab-df-spinner {\n",
              "    border: 2px solid var(--fill-color);\n",
              "    border-color: transparent;\n",
              "    border-bottom-color: var(--fill-color);\n",
              "    animation:\n",
              "      spin 1s steps(1) infinite;\n",
              "  }\n",
              "\n",
              "  @keyframes spin {\n",
              "    0% {\n",
              "      border-color: transparent;\n",
              "      border-bottom-color: var(--fill-color);\n",
              "      border-left-color: var(--fill-color);\n",
              "    }\n",
              "    20% {\n",
              "      border-color: transparent;\n",
              "      border-left-color: var(--fill-color);\n",
              "      border-top-color: var(--fill-color);\n",
              "    }\n",
              "    30% {\n",
              "      border-color: transparent;\n",
              "      border-left-color: var(--fill-color);\n",
              "      border-top-color: var(--fill-color);\n",
              "      border-right-color: var(--fill-color);\n",
              "    }\n",
              "    40% {\n",
              "      border-color: transparent;\n",
              "      border-right-color: var(--fill-color);\n",
              "      border-top-color: var(--fill-color);\n",
              "    }\n",
              "    60% {\n",
              "      border-color: transparent;\n",
              "      border-right-color: var(--fill-color);\n",
              "    }\n",
              "    80% {\n",
              "      border-color: transparent;\n",
              "      border-right-color: var(--fill-color);\n",
              "      border-bottom-color: var(--fill-color);\n",
              "    }\n",
              "    90% {\n",
              "      border-color: transparent;\n",
              "      border-bottom-color: var(--fill-color);\n",
              "    }\n",
              "  }\n",
              "</style>\n",
              "\n",
              "  <script>\n",
              "    async function quickchart(key) {\n",
              "      const quickchartButtonEl =\n",
              "        document.querySelector('#' + key + ' button');\n",
              "      quickchartButtonEl.disabled = true;  // To prevent multiple clicks.\n",
              "      quickchartButtonEl.classList.add('colab-df-spinner');\n",
              "      try {\n",
              "        const charts = await google.colab.kernel.invokeFunction(\n",
              "            'suggestCharts', [key], {});\n",
              "      } catch (error) {\n",
              "        console.error('Error during call to suggestCharts:', error);\n",
              "      }\n",
              "      quickchartButtonEl.classList.remove('colab-df-spinner');\n",
              "      quickchartButtonEl.classList.add('colab-df-quickchart-complete');\n",
              "    }\n",
              "    (() => {\n",
              "      let quickchartButtonEl =\n",
              "        document.querySelector('#df-1aaa315c-be4b-4abf-9642-c09c9ba79a4b button');\n",
              "      quickchartButtonEl.style.display =\n",
              "        google.colab.kernel.accessAllowed ? 'block' : 'none';\n",
              "    })();\n",
              "  </script>\n",
              "</div>\n",
              "\n",
              "    </div>\n",
              "  </div>\n"
            ],
            "application/vnd.google.colaboratory.intrinsic+json": {
              "type": "dataframe",
              "summary": "{\n  \"name\": \"pd\",\n  \"rows\": 3,\n  \"fields\": [\n    {\n      \"column\": \"Model\",\n      \"properties\": {\n        \"dtype\": \"string\",\n        \"num_unique_values\": 3,\n        \"samples\": [\n          \"LR\",\n          \"MNB\",\n          \"DCT\"\n        ],\n        \"semantic_type\": \"\",\n        \"description\": \"\"\n      }\n    },\n    {\n      \"column\": \"Accuracy\",\n      \"properties\": {\n        \"dtype\": \"number\",\n        \"std\": 3.9953848375344267,\n        \"min\": 36.79,\n        \"max\": 43.86,\n        \"num_unique_values\": 3,\n        \"samples\": [\n          43.55,\n          43.86,\n          36.79\n        ],\n        \"semantic_type\": \"\",\n        \"description\": \"\"\n      }\n    }\n  ]\n}"
            }
          },
          "metadata": {},
          "execution_count": 74
        }
      ]
    },
    {
      "cell_type": "markdown",
      "source": [
        "#Prediction"
      ],
      "metadata": {
        "id": "OQjuNq6r2PZA"
      }
    },
    {
      "cell_type": "code",
      "source": [
        "# actual : drama\n",
        "des_drama = \"Listening in to a conversation between his doctor and parents, 10-year-old Oscar learns what nobody has the courage to tell him. He only has a few weeks to live. Furious, he refuses to speak to anyone except straight-talking Rose, the lady in pink he meets on the hospital stairs. As Christmas approaches, Rose uses her fantastical experiences as a professional wrestler, her imagination, wit and charm to allow Oscar to live life and love to the full, in the company of his friends Pop Corn, Einstein, Bacon and childhood sweetheart Peggy Blue\"\n",
        "des_thriller = \"A brother and sister with a past incestuous relationship have a current murderous relationship. He murders the women who reject him and she murders the women who get too close to him.\"\n",
        "des_adult = \"As the bus empties the students for their field trip to the Museum of Natural History, little does the tour guide suspect that the students are there for more than just another tour. First, during the lecture films, the coeds drift into dreams of the most erotic fantasies one can imagine. After the films, they release the emotion of the fantasies in the most erotic and uncommon ways. One slips off to the curator's office for a little \\\"acquisition. \\\" Another finds the anthropologist to see what bones can be identified. Even the head teacher isn't immune. Soon the tour is over, but as the bus departs, everyone admits it was quite an education.\"\n",
        "\n",
        "des_tst0=\"L.R. Brane loves his life - his car, his apartment, his job, but especially his girlfriend, Vespa. One day while showering, Vespa runs out of shampoo. L.R. runs across the street to a convenience store to buy some more, a quick trip of no more than a few minutes. When he returns, Vespa is gone and every trace of her existence has been wiped out. L.R.'s life becomes a tortured existence as one strange event after another occurs to confirm in his mind that a conspiracy is working against his finding Vespa.\"\n",
        "des_tst1 = \"Spain, March 1964: Quico is a very naughty child of three belonging to a wealthy middle-class family. Since Cristina's birth, he feels he has lost the privileged position of prince of the house for his eight months old sister. So, with his brother Juan, who is eight years old and is quite disobedient, spend their time committing prank after prank, causing the resulting anger of his mother, the nanny and the old housemaid. The rest of the family members are two much older brothers, his resigned mother and a retrograde father of authoritarian ideas. But many years have passed, and the civil war that won the despot Don Pablo is simply for their children Dads war\"\n",
        "des_tst2=\"Caught by the Piutes, pony Express Rider Dick Carter falls in love with pretty Dorothy Earle, who belongs to that seemingly endless supply of white girls kidnapped in childhood and raised by Indians. Unfortunately, Dorothy is promised to Bud Osborne, described in a title as \\\"a renegade white who dominates the simple minds of the savage horde.\\\" Does Dorothy succeed in taking her own life rather than face an uncertain future with evil Bud? Or does the stalwart Dick rescue her in time?\""
      ],
      "metadata": {
        "id": "_oo5brQP2JFo"
      },
      "execution_count": null,
      "outputs": []
    },
    {
      "cell_type": "code",
      "source": [
        "txt = desc_filter(des_tst2)"
      ],
      "metadata": {
        "id": "6oefh_mK4H3O"
      },
      "execution_count": null,
      "outputs": []
    },
    {
      "cell_type": "code",
      "source": [
        "x = vactorizer.transform([txt])"
      ],
      "metadata": {
        "id": "D1aJbrSg3PW9"
      },
      "execution_count": null,
      "outputs": []
    },
    {
      "cell_type": "code",
      "source": [
        "# Model prediction\n",
        "gen = list(lr_model.predict(x))\n",
        "pr = lbl_encod.inverse_transform([gen])[0]\n",
        "print('Predicted Genre is :',pr.upper())"
      ],
      "metadata": {
        "colab": {
          "base_uri": "https://localhost:8080/"
        },
        "id": "lNNVGpUw2_nu",
        "outputId": "30532f8a-862f-4f2f-9e5a-236050f4821a"
      },
      "execution_count": null,
      "outputs": [
        {
          "output_type": "stream",
          "name": "stdout",
          "text": [
            "Predicted Genre is :  DRAMA \n"
          ]
        }
      ]
    },
    {
      "cell_type": "markdown",
      "source": [
        "as we have mejority in drama and documentary our model gives perdition as drama."
      ],
      "metadata": {
        "id": "cx03_Pfs_zzG"
      }
    }
  ],
  "metadata": {
    "colab": {
      "provenance": []
    },
    "kernelspec": {
      "display_name": "Python 3",
      "name": "python3"
    },
    "language_info": {
      "name": "python"
    }
  },
  "nbformat": 4,
  "nbformat_minor": 0
}